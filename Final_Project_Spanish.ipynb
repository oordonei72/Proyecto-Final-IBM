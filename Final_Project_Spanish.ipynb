{
 "cells": [
  {
   "cell_type": "markdown",
   "id": "18e1c76e",
   "metadata": {
    "id": "18e1c76e"
   },
   "source": [
    "<center><h1>Proyecto final</h1></center>\n",
    "<center><h3>IBM SkillsBuild Europa - Análisis de datos</h3></center>"
   ]
  },
  {
   "cell_type": "markdown",
   "id": "15894a9e-2607-454f-8dae-5f060ed0a1f7",
   "metadata": {},
   "source": [
    "#### ALUMNO: OSCAR ENRIQUE ORDOÑEZ IZQUIERDO\n",
    "#### CORREO: OORDONEIZ@HOTMAIL.COM"
   ]
  },
  {
   "cell_type": "markdown",
   "id": "ccdda504",
   "metadata": {
    "id": "ccdda504"
   },
   "source": [
    "# Requisitos\n",
    "\n",
    "\n",
    "\n",
    "* Conocimientos de Python, Power BI o Tableau.\n",
    "* Comprensión de la limpieza de datos.\n",
    "* Comprensión de la visualización de datos.\n",
    "\n",
    "\n",
    "\n",
    "#### Nivel de ejercicio: Intermedio\n",
    "\n",
    "\n",
    "\n",
    "#### Duración: aproximadamente 3 horas\n"
   ]
  },
  {
   "cell_type": "markdown",
   "id": "1dd097a8",
   "metadata": {
    "id": "1dd097a8"
   },
   "source": [
    "### Análisis de datos de Airbnb:\n",
    "\n",
    "\n",
    "\n",
    "#### Objetivo:\n",
    "\n",
    "\n",
    "\n",
    "En este ejercicio, practicarás el análisis de datos sobre un conjunto de datos abiertos procedentes de Airbnb. Algunas de las tareas incluyen:\n",
    "\n",
    "- limpieza de datos,\n",
    "- transformación de datos y\n",
    "- visualización de datos.\n",
    "\n",
    "\n",
    "\n",
    "#### Resumen sobre los datos de Airbnb:\n",
    "\n",
    "\n",
    "\n",
    "Los criterios principales de la gente cuando visita lugares nuevos son contar con alojamiento y comida a precios razonables. Airbnb (Air-Bed-Breakfast) es un mercado en línea creado para satisfacer esta necesidad, pues permite a la gente alquilar sus casas durante plazos cortos. Estos servicios se ofrecen a un precio relativamente inferior al de los hoteles y en diversas ubicaciones geográficas. Además, personas de todo el mundo prefieren el servicio hogareño y económico.\n",
    "\n",
    "\n",
    "\n",
    "#### Fuente de los datos\n",
    "\n",
    "\n",
    "\n",
    "Puedes obtener el <i>dataset</i> para realizar este proyecto en el siguiente enlace: https://www.kaggle.com/datasets/arianazmoudeh/airbnbopendata\n",
    "\n",
    "\n",
    "\n",
    "Este <i>dataset</i> contiene información sobre los alojamientos, tal como el barrio, el tipo de habitación, el precio, la disponibilidad, las opiniones, los gastos de servicio, la política de cancelación y las normas de uso de la casa.\n",
    "\n",
    "\n",
    "\n",
    "¡Te deseamos lo mejor en tu análisis de los datos de Airbnb!"
   ]
  },
  {
   "cell_type": "markdown",
   "id": "87iYmshDK853",
   "metadata": {
    "id": "87iYmshDK853"
   },
   "source": [
    "## Tarea 1: Carga de datos (Python)\n",
    "\n",
    "\n",
    "\n",
    "1. Lee el fichero csv y cárgarlo en un <i>dataframe</i> de pandas.\n",
    "2. Visualiza las cinco primeras filas de tu <i>dataframe</i>.\n",
    "3. Visualize los tipos de datos de las columnas."
   ]
  },
  {
   "cell_type": "code",
   "execution_count": 1,
   "id": "-ikKZ3bYK856",
   "metadata": {
    "id": "-ikKZ3bYK856"
   },
   "outputs": [],
   "source": [
    "## Lee el fichero csv.\n",
    "import pandas as pd\n",
    "import numpy as np\n",
    "datos = pd.read_csv('airbnb.csv',low_memory=False)"
   ]
  },
  {
   "cell_type": "code",
   "execution_count": 2,
   "id": "RWEtAhDbK858",
   "metadata": {
    "id": "RWEtAhDbK858"
   },
   "outputs": [
    {
     "data": {
      "text/html": [
       "<div>\n",
       "<style scoped>\n",
       "    .dataframe tbody tr th:only-of-type {\n",
       "        vertical-align: middle;\n",
       "    }\n",
       "\n",
       "    .dataframe tbody tr th {\n",
       "        vertical-align: top;\n",
       "    }\n",
       "\n",
       "    .dataframe thead th {\n",
       "        text-align: right;\n",
       "    }\n",
       "</style>\n",
       "<table border=\"1\" class=\"dataframe\">\n",
       "  <thead>\n",
       "    <tr style=\"text-align: right;\">\n",
       "      <th></th>\n",
       "      <th>id</th>\n",
       "      <th>NAME</th>\n",
       "      <th>host id</th>\n",
       "      <th>host_identity_verified</th>\n",
       "      <th>host name</th>\n",
       "      <th>neighbourhood group</th>\n",
       "      <th>neighbourhood</th>\n",
       "      <th>lat</th>\n",
       "      <th>long</th>\n",
       "      <th>country</th>\n",
       "      <th>...</th>\n",
       "      <th>service fee</th>\n",
       "      <th>minimum nights</th>\n",
       "      <th>number of reviews</th>\n",
       "      <th>last review</th>\n",
       "      <th>reviews per month</th>\n",
       "      <th>review rate number</th>\n",
       "      <th>calculated host listings count</th>\n",
       "      <th>availability 365</th>\n",
       "      <th>house_rules</th>\n",
       "      <th>license</th>\n",
       "    </tr>\n",
       "  </thead>\n",
       "  <tbody>\n",
       "    <tr>\n",
       "      <th>0</th>\n",
       "      <td>1001254</td>\n",
       "      <td>Clean &amp; quiet apt home by the park</td>\n",
       "      <td>80014485718</td>\n",
       "      <td>unconfirmed</td>\n",
       "      <td>Madaline</td>\n",
       "      <td>Brooklyn</td>\n",
       "      <td>Kensington</td>\n",
       "      <td>40.64749</td>\n",
       "      <td>-73.97237</td>\n",
       "      <td>United States</td>\n",
       "      <td>...</td>\n",
       "      <td>$193</td>\n",
       "      <td>10.0</td>\n",
       "      <td>9.0</td>\n",
       "      <td>10/19/2021</td>\n",
       "      <td>0.21</td>\n",
       "      <td>4.0</td>\n",
       "      <td>6.0</td>\n",
       "      <td>286.0</td>\n",
       "      <td>Clean up and treat the home the way you'd like...</td>\n",
       "      <td>NaN</td>\n",
       "    </tr>\n",
       "    <tr>\n",
       "      <th>1</th>\n",
       "      <td>1002102</td>\n",
       "      <td>Skylit Midtown Castle</td>\n",
       "      <td>52335172823</td>\n",
       "      <td>verified</td>\n",
       "      <td>Jenna</td>\n",
       "      <td>Manhattan</td>\n",
       "      <td>Midtown</td>\n",
       "      <td>40.75362</td>\n",
       "      <td>-73.98377</td>\n",
       "      <td>United States</td>\n",
       "      <td>...</td>\n",
       "      <td>$28</td>\n",
       "      <td>30.0</td>\n",
       "      <td>45.0</td>\n",
       "      <td>5/21/2022</td>\n",
       "      <td>0.38</td>\n",
       "      <td>4.0</td>\n",
       "      <td>2.0</td>\n",
       "      <td>228.0</td>\n",
       "      <td>Pet friendly but please confirm with me if the...</td>\n",
       "      <td>NaN</td>\n",
       "    </tr>\n",
       "    <tr>\n",
       "      <th>2</th>\n",
       "      <td>1002403</td>\n",
       "      <td>THE VILLAGE OF HARLEM....NEW YORK !</td>\n",
       "      <td>78829239556</td>\n",
       "      <td>NaN</td>\n",
       "      <td>Elise</td>\n",
       "      <td>Manhattan</td>\n",
       "      <td>Harlem</td>\n",
       "      <td>40.80902</td>\n",
       "      <td>-73.94190</td>\n",
       "      <td>United States</td>\n",
       "      <td>...</td>\n",
       "      <td>$124</td>\n",
       "      <td>3.0</td>\n",
       "      <td>0.0</td>\n",
       "      <td>NaN</td>\n",
       "      <td>NaN</td>\n",
       "      <td>5.0</td>\n",
       "      <td>1.0</td>\n",
       "      <td>352.0</td>\n",
       "      <td>I encourage you to use my kitchen, cooking and...</td>\n",
       "      <td>NaN</td>\n",
       "    </tr>\n",
       "    <tr>\n",
       "      <th>3</th>\n",
       "      <td>1002755</td>\n",
       "      <td>NaN</td>\n",
       "      <td>85098326012</td>\n",
       "      <td>unconfirmed</td>\n",
       "      <td>Garry</td>\n",
       "      <td>Brooklyn</td>\n",
       "      <td>Clinton Hill</td>\n",
       "      <td>40.68514</td>\n",
       "      <td>-73.95976</td>\n",
       "      <td>United States</td>\n",
       "      <td>...</td>\n",
       "      <td>$74</td>\n",
       "      <td>30.0</td>\n",
       "      <td>270.0</td>\n",
       "      <td>7/5/2019</td>\n",
       "      <td>4.64</td>\n",
       "      <td>4.0</td>\n",
       "      <td>1.0</td>\n",
       "      <td>322.0</td>\n",
       "      <td>NaN</td>\n",
       "      <td>NaN</td>\n",
       "    </tr>\n",
       "    <tr>\n",
       "      <th>4</th>\n",
       "      <td>1003689</td>\n",
       "      <td>Entire Apt: Spacious Studio/Loft by central park</td>\n",
       "      <td>92037596077</td>\n",
       "      <td>verified</td>\n",
       "      <td>Lyndon</td>\n",
       "      <td>Manhattan</td>\n",
       "      <td>East Harlem</td>\n",
       "      <td>40.79851</td>\n",
       "      <td>-73.94399</td>\n",
       "      <td>United States</td>\n",
       "      <td>...</td>\n",
       "      <td>$41</td>\n",
       "      <td>10.0</td>\n",
       "      <td>9.0</td>\n",
       "      <td>11/19/2018</td>\n",
       "      <td>0.10</td>\n",
       "      <td>3.0</td>\n",
       "      <td>1.0</td>\n",
       "      <td>289.0</td>\n",
       "      <td>Please no smoking in the house, porch or on th...</td>\n",
       "      <td>NaN</td>\n",
       "    </tr>\n",
       "  </tbody>\n",
       "</table>\n",
       "<p>5 rows × 26 columns</p>\n",
       "</div>"
      ],
      "text/plain": [
       "        id                                              NAME      host id  \\\n",
       "0  1001254                Clean & quiet apt home by the park  80014485718   \n",
       "1  1002102                             Skylit Midtown Castle  52335172823   \n",
       "2  1002403               THE VILLAGE OF HARLEM....NEW YORK !  78829239556   \n",
       "3  1002755                                               NaN  85098326012   \n",
       "4  1003689  Entire Apt: Spacious Studio/Loft by central park  92037596077   \n",
       "\n",
       "  host_identity_verified host name neighbourhood group neighbourhood  \\\n",
       "0            unconfirmed  Madaline            Brooklyn    Kensington   \n",
       "1               verified     Jenna           Manhattan       Midtown   \n",
       "2                    NaN     Elise           Manhattan        Harlem   \n",
       "3            unconfirmed     Garry            Brooklyn  Clinton Hill   \n",
       "4               verified    Lyndon           Manhattan   East Harlem   \n",
       "\n",
       "        lat      long        country  ... service fee minimum nights  \\\n",
       "0  40.64749 -73.97237  United States  ...       $193            10.0   \n",
       "1  40.75362 -73.98377  United States  ...        $28            30.0   \n",
       "2  40.80902 -73.94190  United States  ...       $124             3.0   \n",
       "3  40.68514 -73.95976  United States  ...        $74            30.0   \n",
       "4  40.79851 -73.94399  United States  ...        $41            10.0   \n",
       "\n",
       "  number of reviews last review  reviews per month review rate number  \\\n",
       "0               9.0  10/19/2021               0.21                4.0   \n",
       "1              45.0   5/21/2022               0.38                4.0   \n",
       "2               0.0         NaN                NaN                5.0   \n",
       "3             270.0    7/5/2019               4.64                4.0   \n",
       "4               9.0  11/19/2018               0.10                3.0   \n",
       "\n",
       "  calculated host listings count  availability 365  \\\n",
       "0                            6.0             286.0   \n",
       "1                            2.0             228.0   \n",
       "2                            1.0             352.0   \n",
       "3                            1.0             322.0   \n",
       "4                            1.0             289.0   \n",
       "\n",
       "                                         house_rules license  \n",
       "0  Clean up and treat the home the way you'd like...     NaN  \n",
       "1  Pet friendly but please confirm with me if the...     NaN  \n",
       "2  I encourage you to use my kitchen, cooking and...     NaN  \n",
       "3                                                NaN     NaN  \n",
       "4  Please no smoking in the house, porch or on th...     NaN  \n",
       "\n",
       "[5 rows x 26 columns]"
      ]
     },
     "execution_count": 2,
     "metadata": {},
     "output_type": "execute_result"
    }
   ],
   "source": [
    "## Muestra las primeras 5 filas.\n",
    "datos.head(5)"
   ]
  },
  {
   "cell_type": "code",
   "execution_count": 3,
   "id": "8c934126-6316-4ea2-95df-590cc3f75770",
   "metadata": {},
   "outputs": [
    {
     "data": {
      "text/plain": [
       "id                                  int64\n",
       "NAME                               object\n",
       "host id                             int64\n",
       "host_identity_verified             object\n",
       "host name                          object\n",
       "neighbourhood group                object\n",
       "neighbourhood                      object\n",
       "lat                               float64\n",
       "long                              float64\n",
       "country                            object\n",
       "country code                       object\n",
       "instant_bookable                   object\n",
       "cancellation_policy                object\n",
       "room type                          object\n",
       "Construction year                 float64\n",
       "price                              object\n",
       "service fee                        object\n",
       "minimum nights                    float64\n",
       "number of reviews                 float64\n",
       "last review                        object\n",
       "reviews per month                 float64\n",
       "review rate number                float64\n",
       "calculated host listings count    float64\n",
       "availability 365                  float64\n",
       "house_rules                        object\n",
       "license                            object\n",
       "dtype: object"
      ]
     },
     "execution_count": 3,
     "metadata": {},
     "output_type": "execute_result"
    }
   ],
   "source": [
    "## Muestra los tipos de datos.\n",
    "datos.dtypes"
   ]
  },
  {
   "cell_type": "code",
   "execution_count": 4,
   "id": "WuceSXM-K859",
   "metadata": {
    "id": "WuceSXM-K859"
   },
   "outputs": [
    {
     "name": "stdout",
     "output_type": "stream",
     "text": [
      "<class 'pandas.core.frame.DataFrame'>\n",
      "RangeIndex: 102599 entries, 0 to 102598\n",
      "Data columns (total 26 columns):\n",
      " #   Column                          Non-Null Count   Dtype  \n",
      "---  ------                          --------------   -----  \n",
      " 0   id                              102599 non-null  int64  \n",
      " 1   NAME                            102349 non-null  object \n",
      " 2   host id                         102599 non-null  int64  \n",
      " 3   host_identity_verified          102310 non-null  object \n",
      " 4   host name                       102193 non-null  object \n",
      " 5   neighbourhood group             102570 non-null  object \n",
      " 6   neighbourhood                   102583 non-null  object \n",
      " 7   lat                             102591 non-null  float64\n",
      " 8   long                            102591 non-null  float64\n",
      " 9   country                         102067 non-null  object \n",
      " 10  country code                    102468 non-null  object \n",
      " 11  instant_bookable                102494 non-null  object \n",
      " 12  cancellation_policy             102523 non-null  object \n",
      " 13  room type                       102599 non-null  object \n",
      " 14  Construction year               102385 non-null  float64\n",
      " 15  price                           102352 non-null  object \n",
      " 16  service fee                     102326 non-null  object \n",
      " 17  minimum nights                  102190 non-null  float64\n",
      " 18  number of reviews               102416 non-null  float64\n",
      " 19  last review                     86706 non-null   object \n",
      " 20  reviews per month               86720 non-null   float64\n",
      " 21  review rate number              102273 non-null  float64\n",
      " 22  calculated host listings count  102280 non-null  float64\n",
      " 23  availability 365                102151 non-null  float64\n",
      " 24  house_rules                     50468 non-null   object \n",
      " 25  license                         2 non-null       object \n",
      "dtypes: float64(9), int64(2), object(15)\n",
      "memory usage: 20.4+ MB\n"
     ]
    }
   ],
   "source": [
    "datos.info()"
   ]
  },
  {
   "cell_type": "markdown",
   "id": "cAkB_QvkK859",
   "metadata": {
    "id": "cAkB_QvkK859"
   },
   "source": [
    "## Tarea 2a: Limpieza de datos (cualquier herramienta)\n",
    "\n",
    "\n",
    "1. Elimina las columnas no deseadas del <i>dataframe</i>, entre ellas se incluyen `host id`, `id`, `country` y `country code`.\n",
    "2. Indica la razón por la cual se han eliminado estas columnas para tu análisis de datos.\n",
    "\n",
    "\n",
    "Si utilizas Python para este ejercicio, incluye el código que hayas utilizado en las celdas siguientes. Si utilizas cualquier otra herramienta, incluye capturas de pantalla tomadas antes y después de eliminar las columnas."
   ]
  },
  {
   "cell_type": "code",
   "execution_count": 5,
   "id": "DoduWcK9K85-",
   "metadata": {
    "id": "DoduWcK9K85-"
   },
   "outputs": [],
   "source": [
    "#axis=1 afecta a la columna,inplace=true afecta al mismo datafraame\n",
    "datos.drop(['id','host id','country','country code'],axis=1,inplace=True)"
   ]
  },
  {
   "cell_type": "code",
   "execution_count": 6,
   "id": "cEvRIZhQK85-",
   "metadata": {
    "id": "cEvRIZhQK85-"
   },
   "outputs": [
    {
     "name": "stdout",
     "output_type": "stream",
     "text": [
      "<class 'pandas.core.frame.DataFrame'>\n",
      "RangeIndex: 102599 entries, 0 to 102598\n",
      "Data columns (total 22 columns):\n",
      " #   Column                          Non-Null Count   Dtype  \n",
      "---  ------                          --------------   -----  \n",
      " 0   NAME                            102349 non-null  object \n",
      " 1   host_identity_verified          102310 non-null  object \n",
      " 2   host name                       102193 non-null  object \n",
      " 3   neighbourhood group             102570 non-null  object \n",
      " 4   neighbourhood                   102583 non-null  object \n",
      " 5   lat                             102591 non-null  float64\n",
      " 6   long                            102591 non-null  float64\n",
      " 7   instant_bookable                102494 non-null  object \n",
      " 8   cancellation_policy             102523 non-null  object \n",
      " 9   room type                       102599 non-null  object \n",
      " 10  Construction year               102385 non-null  float64\n",
      " 11  price                           102352 non-null  object \n",
      " 12  service fee                     102326 non-null  object \n",
      " 13  minimum nights                  102190 non-null  float64\n",
      " 14  number of reviews               102416 non-null  float64\n",
      " 15  last review                     86706 non-null   object \n",
      " 16  reviews per month               86720 non-null   float64\n",
      " 17  review rate number              102273 non-null  float64\n",
      " 18  calculated host listings count  102280 non-null  float64\n",
      " 19  availability 365                102151 non-null  float64\n",
      " 20  house_rules                     50468 non-null   object \n",
      " 21  license                         2 non-null       object \n",
      "dtypes: float64(9), object(13)\n",
      "memory usage: 17.2+ MB\n"
     ]
    }
   ],
   "source": [
    "datos.info()"
   ]
  },
  {
   "cell_type": "code",
   "execution_count": 7,
   "id": "5KkwkvsNK85_",
   "metadata": {
    "id": "5KkwkvsNK85_"
   },
   "outputs": [],
   "source": [
    "# COMENTARIO: se eliminaron porque para el analisis no se necesita el codigo , asi mismo en el analisis no influye."
   ]
  },
  {
   "cell_type": "code",
   "execution_count": 8,
   "id": "2e456e69-6eed-4e3e-a5dd-0bae0878a8e2",
   "metadata": {},
   "outputs": [
    {
     "data": {
      "text/html": [
       "<div>\n",
       "<style scoped>\n",
       "    .dataframe tbody tr th:only-of-type {\n",
       "        vertical-align: middle;\n",
       "    }\n",
       "\n",
       "    .dataframe tbody tr th {\n",
       "        vertical-align: top;\n",
       "    }\n",
       "\n",
       "    .dataframe thead th {\n",
       "        text-align: right;\n",
       "    }\n",
       "</style>\n",
       "<table border=\"1\" class=\"dataframe\">\n",
       "  <thead>\n",
       "    <tr style=\"text-align: right;\">\n",
       "      <th></th>\n",
       "      <th>NAME</th>\n",
       "      <th>host_identity_verified</th>\n",
       "      <th>host name</th>\n",
       "      <th>neighbourhood group</th>\n",
       "      <th>neighbourhood</th>\n",
       "      <th>lat</th>\n",
       "      <th>long</th>\n",
       "      <th>instant_bookable</th>\n",
       "      <th>cancellation_policy</th>\n",
       "      <th>room type</th>\n",
       "      <th>...</th>\n",
       "      <th>service fee</th>\n",
       "      <th>minimum nights</th>\n",
       "      <th>number of reviews</th>\n",
       "      <th>last review</th>\n",
       "      <th>reviews per month</th>\n",
       "      <th>review rate number</th>\n",
       "      <th>calculated host listings count</th>\n",
       "      <th>availability 365</th>\n",
       "      <th>house_rules</th>\n",
       "      <th>license</th>\n",
       "    </tr>\n",
       "  </thead>\n",
       "  <tbody>\n",
       "    <tr>\n",
       "      <th>0</th>\n",
       "      <td>Clean &amp; quiet apt home by the park</td>\n",
       "      <td>unconfirmed</td>\n",
       "      <td>Madaline</td>\n",
       "      <td>Brooklyn</td>\n",
       "      <td>Kensington</td>\n",
       "      <td>40.64749</td>\n",
       "      <td>-73.97237</td>\n",
       "      <td>False</td>\n",
       "      <td>strict</td>\n",
       "      <td>Private room</td>\n",
       "      <td>...</td>\n",
       "      <td>$193</td>\n",
       "      <td>10.0</td>\n",
       "      <td>9.0</td>\n",
       "      <td>10/19/2021</td>\n",
       "      <td>0.21</td>\n",
       "      <td>4.0</td>\n",
       "      <td>6.0</td>\n",
       "      <td>286.0</td>\n",
       "      <td>Clean up and treat the home the way you'd like...</td>\n",
       "      <td>NaN</td>\n",
       "    </tr>\n",
       "    <tr>\n",
       "      <th>1</th>\n",
       "      <td>Skylit Midtown Castle</td>\n",
       "      <td>verified</td>\n",
       "      <td>Jenna</td>\n",
       "      <td>Manhattan</td>\n",
       "      <td>Midtown</td>\n",
       "      <td>40.75362</td>\n",
       "      <td>-73.98377</td>\n",
       "      <td>False</td>\n",
       "      <td>moderate</td>\n",
       "      <td>Entire home/apt</td>\n",
       "      <td>...</td>\n",
       "      <td>$28</td>\n",
       "      <td>30.0</td>\n",
       "      <td>45.0</td>\n",
       "      <td>5/21/2022</td>\n",
       "      <td>0.38</td>\n",
       "      <td>4.0</td>\n",
       "      <td>2.0</td>\n",
       "      <td>228.0</td>\n",
       "      <td>Pet friendly but please confirm with me if the...</td>\n",
       "      <td>NaN</td>\n",
       "    </tr>\n",
       "    <tr>\n",
       "      <th>2</th>\n",
       "      <td>THE VILLAGE OF HARLEM....NEW YORK !</td>\n",
       "      <td>NaN</td>\n",
       "      <td>Elise</td>\n",
       "      <td>Manhattan</td>\n",
       "      <td>Harlem</td>\n",
       "      <td>40.80902</td>\n",
       "      <td>-73.94190</td>\n",
       "      <td>True</td>\n",
       "      <td>flexible</td>\n",
       "      <td>Private room</td>\n",
       "      <td>...</td>\n",
       "      <td>$124</td>\n",
       "      <td>3.0</td>\n",
       "      <td>0.0</td>\n",
       "      <td>NaN</td>\n",
       "      <td>NaN</td>\n",
       "      <td>5.0</td>\n",
       "      <td>1.0</td>\n",
       "      <td>352.0</td>\n",
       "      <td>I encourage you to use my kitchen, cooking and...</td>\n",
       "      <td>NaN</td>\n",
       "    </tr>\n",
       "    <tr>\n",
       "      <th>3</th>\n",
       "      <td>NaN</td>\n",
       "      <td>unconfirmed</td>\n",
       "      <td>Garry</td>\n",
       "      <td>Brooklyn</td>\n",
       "      <td>Clinton Hill</td>\n",
       "      <td>40.68514</td>\n",
       "      <td>-73.95976</td>\n",
       "      <td>True</td>\n",
       "      <td>moderate</td>\n",
       "      <td>Entire home/apt</td>\n",
       "      <td>...</td>\n",
       "      <td>$74</td>\n",
       "      <td>30.0</td>\n",
       "      <td>270.0</td>\n",
       "      <td>7/5/2019</td>\n",
       "      <td>4.64</td>\n",
       "      <td>4.0</td>\n",
       "      <td>1.0</td>\n",
       "      <td>322.0</td>\n",
       "      <td>NaN</td>\n",
       "      <td>NaN</td>\n",
       "    </tr>\n",
       "  </tbody>\n",
       "</table>\n",
       "<p>4 rows × 22 columns</p>\n",
       "</div>"
      ],
      "text/plain": [
       "                                  NAME host_identity_verified host name  \\\n",
       "0   Clean & quiet apt home by the park            unconfirmed  Madaline   \n",
       "1                Skylit Midtown Castle               verified     Jenna   \n",
       "2  THE VILLAGE OF HARLEM....NEW YORK !                    NaN     Elise   \n",
       "3                                  NaN            unconfirmed     Garry   \n",
       "\n",
       "  neighbourhood group neighbourhood       lat      long instant_bookable  \\\n",
       "0            Brooklyn    Kensington  40.64749 -73.97237            False   \n",
       "1           Manhattan       Midtown  40.75362 -73.98377            False   \n",
       "2           Manhattan        Harlem  40.80902 -73.94190             True   \n",
       "3            Brooklyn  Clinton Hill  40.68514 -73.95976             True   \n",
       "\n",
       "  cancellation_policy        room type  ...  service fee minimum nights  \\\n",
       "0              strict     Private room  ...        $193            10.0   \n",
       "1            moderate  Entire home/apt  ...         $28            30.0   \n",
       "2            flexible     Private room  ...        $124             3.0   \n",
       "3            moderate  Entire home/apt  ...         $74            30.0   \n",
       "\n",
       "  number of reviews  last review  reviews per month review rate number  \\\n",
       "0               9.0   10/19/2021               0.21                4.0   \n",
       "1              45.0    5/21/2022               0.38                4.0   \n",
       "2               0.0          NaN                NaN                5.0   \n",
       "3             270.0     7/5/2019               4.64                4.0   \n",
       "\n",
       "   calculated host listings count  availability 365  \\\n",
       "0                             6.0             286.0   \n",
       "1                             2.0             228.0   \n",
       "2                             1.0             352.0   \n",
       "3                             1.0             322.0   \n",
       "\n",
       "                                         house_rules  license  \n",
       "0  Clean up and treat the home the way you'd like...      NaN  \n",
       "1  Pet friendly but please confirm with me if the...      NaN  \n",
       "2  I encourage you to use my kitchen, cooking and...      NaN  \n",
       "3                                                NaN      NaN  \n",
       "\n",
       "[4 rows x 22 columns]"
      ]
     },
     "execution_count": 8,
     "metadata": {},
     "output_type": "execute_result"
    }
   ],
   "source": [
    "datos.head(4)"
   ]
  },
  {
   "cell_type": "markdown",
   "id": "8v34rhNaK85_",
   "metadata": {
    "id": "8v34rhNaK85_"
   },
   "source": [
    "## Tarea 2b: Limpieza de datos (Python)\n",
    "\n",
    "\n",
    "- Compueba si hay valores nulos y muestra el recuento en orden ascendente. **Si faltan valores, imputa los valores como consideres.**\n",
    "- Comprueba si hay valores duplicados y elimínalos.\n",
    "- Muestra el número total de registros antes y después de eliminar los duplicados."
   ]
  },
  {
   "cell_type": "code",
   "execution_count": 9,
   "id": "Z2MfBKnyK86A",
   "metadata": {
    "id": "Z2MfBKnyK86A"
   },
   "outputs": [
    {
     "data": {
      "text/plain": [
       "room type                              0\n",
       "lat                                    8\n",
       "long                                   8\n",
       "neighbourhood                         16\n",
       "neighbourhood group                   29\n",
       "cancellation_policy                   76\n",
       "instant_bookable                     105\n",
       "number of reviews                    183\n",
       "Construction year                    214\n",
       "price                                247\n",
       "NAME                                 250\n",
       "service fee                          273\n",
       "host_identity_verified               289\n",
       "calculated host listings count       319\n",
       "review rate number                   326\n",
       "host name                            406\n",
       "minimum nights                       409\n",
       "availability 365                     448\n",
       "reviews per month                  15879\n",
       "last review                        15893\n",
       "house_rules                        52131\n",
       "license                           102597\n",
       "dtype: int64"
      ]
     },
     "execution_count": 9,
     "metadata": {},
     "output_type": "execute_result"
    }
   ],
   "source": [
    "## Comprueba si hay valores nulos y muestra el recuento en orden ascendente.\n",
    "datos.isnull().sum().sort_values()"
   ]
  },
  {
   "cell_type": "code",
   "execution_count": 10,
   "id": "a5ad5fc3-0562-482f-9188-f42d6e0e0f14",
   "metadata": {},
   "outputs": [
    {
     "data": {
      "text/html": [
       "<div>\n",
       "<style scoped>\n",
       "    .dataframe tbody tr th:only-of-type {\n",
       "        vertical-align: middle;\n",
       "    }\n",
       "\n",
       "    .dataframe tbody tr th {\n",
       "        vertical-align: top;\n",
       "    }\n",
       "\n",
       "    .dataframe thead th {\n",
       "        text-align: right;\n",
       "    }\n",
       "</style>\n",
       "<table border=\"1\" class=\"dataframe\">\n",
       "  <thead>\n",
       "    <tr style=\"text-align: right;\">\n",
       "      <th></th>\n",
       "      <th>NAME</th>\n",
       "      <th>host_identity_verified</th>\n",
       "      <th>host name</th>\n",
       "      <th>neighbourhood group</th>\n",
       "      <th>neighbourhood</th>\n",
       "      <th>lat</th>\n",
       "      <th>long</th>\n",
       "      <th>instant_bookable</th>\n",
       "      <th>cancellation_policy</th>\n",
       "      <th>room type</th>\n",
       "      <th>...</th>\n",
       "      <th>service fee</th>\n",
       "      <th>minimum nights</th>\n",
       "      <th>number of reviews</th>\n",
       "      <th>last review</th>\n",
       "      <th>reviews per month</th>\n",
       "      <th>review rate number</th>\n",
       "      <th>calculated host listings count</th>\n",
       "      <th>availability 365</th>\n",
       "      <th>house_rules</th>\n",
       "      <th>license</th>\n",
       "    </tr>\n",
       "  </thead>\n",
       "  <tbody>\n",
       "    <tr>\n",
       "      <th>779</th>\n",
       "      <td>Large, furnished room in a 2 bedroom!</td>\n",
       "      <td>unconfirmed</td>\n",
       "      <td>Gibson</td>\n",
       "      <td>Brooklyn</td>\n",
       "      <td>Crown Heights</td>\n",
       "      <td>NaN</td>\n",
       "      <td>NaN</td>\n",
       "      <td>False</td>\n",
       "      <td>strict</td>\n",
       "      <td>Private room</td>\n",
       "      <td>...</td>\n",
       "      <td>$108</td>\n",
       "      <td>1.0</td>\n",
       "      <td>1.0</td>\n",
       "      <td>3/18/2017</td>\n",
       "      <td>0.04</td>\n",
       "      <td>2.0</td>\n",
       "      <td>1.0</td>\n",
       "      <td>41.0</td>\n",
       "      <td>- Weekly and monthly prices are much lower - P...</td>\n",
       "      <td>NaN</td>\n",
       "    </tr>\n",
       "    <tr>\n",
       "      <th>785</th>\n",
       "      <td>Authentic NY Charming Artist Loft</td>\n",
       "      <td>unconfirmed</td>\n",
       "      <td>Bailey</td>\n",
       "      <td>Brooklyn</td>\n",
       "      <td>Greenpoint</td>\n",
       "      <td>NaN</td>\n",
       "      <td>NaN</td>\n",
       "      <td>False</td>\n",
       "      <td>strict</td>\n",
       "      <td>Entire home/apt</td>\n",
       "      <td>...</td>\n",
       "      <td>$212</td>\n",
       "      <td>5.0</td>\n",
       "      <td>14.0</td>\n",
       "      <td>6/19/2019</td>\n",
       "      <td>0.16</td>\n",
       "      <td>5.0</td>\n",
       "      <td>1.0</td>\n",
       "      <td>226.0</td>\n",
       "      <td>We live and let live - hoping that you'd be re...</td>\n",
       "      <td>NaN</td>\n",
       "    </tr>\n",
       "    <tr>\n",
       "      <th>799</th>\n",
       "      <td>Huge room with private balcony</td>\n",
       "      <td>verified</td>\n",
       "      <td>Hunt</td>\n",
       "      <td>Manhattan</td>\n",
       "      <td>East Village</td>\n",
       "      <td>NaN</td>\n",
       "      <td>NaN</td>\n",
       "      <td>False</td>\n",
       "      <td>flexible</td>\n",
       "      <td>Private room</td>\n",
       "      <td>...</td>\n",
       "      <td>$101</td>\n",
       "      <td>6.0</td>\n",
       "      <td>1.0</td>\n",
       "      <td>5/6/2013</td>\n",
       "      <td>0.01</td>\n",
       "      <td>1.0</td>\n",
       "      <td>1.0</td>\n",
       "      <td>240.0</td>\n",
       "      <td>Expect respect for the family and the space--t...</td>\n",
       "      <td>NaN</td>\n",
       "    </tr>\n",
       "    <tr>\n",
       "      <th>814</th>\n",
       "      <td>Decorators 5-Star Flat West Village</td>\n",
       "      <td>verified</td>\n",
       "      <td>Watson</td>\n",
       "      <td>Manhattan</td>\n",
       "      <td>West Village</td>\n",
       "      <td>NaN</td>\n",
       "      <td>NaN</td>\n",
       "      <td>True</td>\n",
       "      <td>strict</td>\n",
       "      <td>Entire home/apt</td>\n",
       "      <td>...</td>\n",
       "      <td>$76</td>\n",
       "      <td>20.0</td>\n",
       "      <td>157.0</td>\n",
       "      <td>8/11/2016</td>\n",
       "      <td>1.71</td>\n",
       "      <td>4.0</td>\n",
       "      <td>1.0</td>\n",
       "      <td>61.0</td>\n",
       "      <td>Please keep it clean, thats all we really ask ...</td>\n",
       "      <td>NaN</td>\n",
       "    </tr>\n",
       "    <tr>\n",
       "      <th>843</th>\n",
       "      <td>Nice Private Room Beauty in Queens</td>\n",
       "      <td>verified</td>\n",
       "      <td>Roberts</td>\n",
       "      <td>Queens</td>\n",
       "      <td>Elmhurst</td>\n",
       "      <td>NaN</td>\n",
       "      <td>NaN</td>\n",
       "      <td>True</td>\n",
       "      <td>strict</td>\n",
       "      <td>Private room</td>\n",
       "      <td>...</td>\n",
       "      <td>$45</td>\n",
       "      <td>1.0</td>\n",
       "      <td>63.0</td>\n",
       "      <td>5/18/2019</td>\n",
       "      <td>0.89</td>\n",
       "      <td>3.0</td>\n",
       "      <td>2.0</td>\n",
       "      <td>70.0</td>\n",
       "      <td>NaN</td>\n",
       "      <td>NaN</td>\n",
       "    </tr>\n",
       "    <tr>\n",
       "      <th>885</th>\n",
       "      <td>Cute Room in Historic Loft!</td>\n",
       "      <td>unconfirmed</td>\n",
       "      <td>Jones</td>\n",
       "      <td>Brooklyn</td>\n",
       "      <td>Greenpoint</td>\n",
       "      <td>NaN</td>\n",
       "      <td>NaN</td>\n",
       "      <td>True</td>\n",
       "      <td>flexible</td>\n",
       "      <td>Private room</td>\n",
       "      <td>...</td>\n",
       "      <td>$105</td>\n",
       "      <td>14.0</td>\n",
       "      <td>22.0</td>\n",
       "      <td>5/2/2019</td>\n",
       "      <td>0.25</td>\n",
       "      <td>1.0</td>\n",
       "      <td>1.0</td>\n",
       "      <td>266.0</td>\n",
       "      <td>Pets are cool (just clean up after them!), smo...</td>\n",
       "      <td>NaN</td>\n",
       "    </tr>\n",
       "    <tr>\n",
       "      <th>926</th>\n",
       "      <td>21 day Chelsea Apartment rental</td>\n",
       "      <td>unconfirmed</td>\n",
       "      <td>Owens</td>\n",
       "      <td>Manhattan</td>\n",
       "      <td>Flatiron District</td>\n",
       "      <td>NaN</td>\n",
       "      <td>NaN</td>\n",
       "      <td>False</td>\n",
       "      <td>strict</td>\n",
       "      <td>Private room</td>\n",
       "      <td>...</td>\n",
       "      <td>$125</td>\n",
       "      <td>21.0</td>\n",
       "      <td>0.0</td>\n",
       "      <td>NaN</td>\n",
       "      <td>NaN</td>\n",
       "      <td>2.0</td>\n",
       "      <td>1.0</td>\n",
       "      <td>104.0</td>\n",
       "      <td>NaN</td>\n",
       "      <td>NaN</td>\n",
       "    </tr>\n",
       "    <tr>\n",
       "      <th>986</th>\n",
       "      <td>New York City for All Seasons!</td>\n",
       "      <td>unconfirmed</td>\n",
       "      <td>Douglas</td>\n",
       "      <td>Manhattan</td>\n",
       "      <td>Upper West Side</td>\n",
       "      <td>NaN</td>\n",
       "      <td>NaN</td>\n",
       "      <td>True</td>\n",
       "      <td>flexible</td>\n",
       "      <td>Private room</td>\n",
       "      <td>...</td>\n",
       "      <td>$83</td>\n",
       "      <td>1.0</td>\n",
       "      <td>25.0</td>\n",
       "      <td>6/22/2013</td>\n",
       "      <td>0.28</td>\n",
       "      <td>2.0</td>\n",
       "      <td>1.0</td>\n",
       "      <td>259.0</td>\n",
       "      <td>No Smoking No Pets</td>\n",
       "      <td>NaN</td>\n",
       "    </tr>\n",
       "  </tbody>\n",
       "</table>\n",
       "<p>8 rows × 22 columns</p>\n",
       "</div>"
      ],
      "text/plain": [
       "                                      NAME host_identity_verified host name  \\\n",
       "779  Large, furnished room in a 2 bedroom!            unconfirmed    Gibson   \n",
       "785      Authentic NY Charming Artist Loft            unconfirmed    Bailey   \n",
       "799         Huge room with private balcony               verified      Hunt   \n",
       "814    Decorators 5-Star Flat West Village               verified    Watson   \n",
       "843     Nice Private Room Beauty in Queens               verified   Roberts   \n",
       "885            Cute Room in Historic Loft!            unconfirmed     Jones   \n",
       "926        21 day Chelsea Apartment rental            unconfirmed     Owens   \n",
       "986         New York City for All Seasons!            unconfirmed   Douglas   \n",
       "\n",
       "    neighbourhood group      neighbourhood  lat  long instant_bookable  \\\n",
       "779            Brooklyn      Crown Heights  NaN   NaN            False   \n",
       "785            Brooklyn         Greenpoint  NaN   NaN            False   \n",
       "799           Manhattan       East Village  NaN   NaN            False   \n",
       "814           Manhattan       West Village  NaN   NaN             True   \n",
       "843              Queens           Elmhurst  NaN   NaN             True   \n",
       "885            Brooklyn         Greenpoint  NaN   NaN             True   \n",
       "926           Manhattan  Flatiron District  NaN   NaN            False   \n",
       "986           Manhattan    Upper West Side  NaN   NaN             True   \n",
       "\n",
       "    cancellation_policy        room type  ...  service fee minimum nights  \\\n",
       "779              strict     Private room  ...        $108             1.0   \n",
       "785              strict  Entire home/apt  ...        $212             5.0   \n",
       "799            flexible     Private room  ...        $101             6.0   \n",
       "814              strict  Entire home/apt  ...         $76            20.0   \n",
       "843              strict     Private room  ...         $45             1.0   \n",
       "885            flexible     Private room  ...        $105            14.0   \n",
       "926              strict     Private room  ...        $125            21.0   \n",
       "986            flexible     Private room  ...         $83             1.0   \n",
       "\n",
       "    number of reviews  last review  reviews per month review rate number  \\\n",
       "779               1.0    3/18/2017               0.04                2.0   \n",
       "785              14.0    6/19/2019               0.16                5.0   \n",
       "799               1.0     5/6/2013               0.01                1.0   \n",
       "814             157.0    8/11/2016               1.71                4.0   \n",
       "843              63.0    5/18/2019               0.89                3.0   \n",
       "885              22.0     5/2/2019               0.25                1.0   \n",
       "926               0.0          NaN                NaN                2.0   \n",
       "986              25.0    6/22/2013               0.28                2.0   \n",
       "\n",
       "     calculated host listings count  availability 365  \\\n",
       "779                             1.0              41.0   \n",
       "785                             1.0             226.0   \n",
       "799                             1.0             240.0   \n",
       "814                             1.0              61.0   \n",
       "843                             2.0              70.0   \n",
       "885                             1.0             266.0   \n",
       "926                             1.0             104.0   \n",
       "986                             1.0             259.0   \n",
       "\n",
       "                                           house_rules  license  \n",
       "779  - Weekly and monthly prices are much lower - P...      NaN  \n",
       "785  We live and let live - hoping that you'd be re...      NaN  \n",
       "799  Expect respect for the family and the space--t...      NaN  \n",
       "814  Please keep it clean, thats all we really ask ...      NaN  \n",
       "843                                                NaN      NaN  \n",
       "885  Pets are cool (just clean up after them!), smo...      NaN  \n",
       "926                                                NaN      NaN  \n",
       "986                                 No Smoking No Pets      NaN  \n",
       "\n",
       "[8 rows x 22 columns]"
      ]
     },
     "execution_count": 10,
     "metadata": {},
     "output_type": "execute_result"
    }
   ],
   "source": [
    "datos[datos['lat'].isnull()]"
   ]
  },
  {
   "cell_type": "code",
   "execution_count": 11,
   "id": "cfb5f5e5-1ab4-48dc-b9f0-8b98a64df6c7",
   "metadata": {},
   "outputs": [],
   "source": [
    "#Tenemos 8 filas con valor nulo de la columna lat y long\n",
    "#Calculamos la media de las columnas lat y long para luego imputarlos\n",
    "media_lat=datos['lat'].mean()\n",
    "media_long=datos['long'].mean()"
   ]
  },
  {
   "cell_type": "code",
   "execution_count": 12,
   "id": "f580853a-96de-4721-ba5d-441a79cef32f",
   "metadata": {},
   "outputs": [],
   "source": [
    "# Inputamos los valores calculados a los nulos\n",
    "datos['lat'].fillna(media_lat,inplace=True)\n",
    "datos['long'].fillna(media_long,inplace=True)"
   ]
  },
  {
   "cell_type": "code",
   "execution_count": 13,
   "id": "fb0ef21a-6163-4883-8913-cb9da7156db0",
   "metadata": {},
   "outputs": [
    {
     "name": "stdout",
     "output_type": "stream",
     "text": [
      "Se reemplazaron 13 de tipo object\n",
      "se reemplazaron 9 de tipo numerico\n"
     ]
    }
   ],
   "source": [
    "# \n",
    "dat_obj=0\n",
    "dat_num=0\n",
    "for col in datos.columns:\n",
    "    if (datos[col].dtype =='O'):\n",
    "        datos[col].fillna(datos[col].mode()[0],inplace=True)\n",
    "        dat_obj+=1\n",
    "    else:\n",
    "        datos[col].fillna(datos[col].mean(),inplace=True)\n",
    "        dat_num+=1\n",
    "print(f'Se reemplazaron {dat_obj} de tipo object')\n",
    "print(f'se reemplazaron {dat_num} de tipo numerico')"
   ]
  },
  {
   "cell_type": "code",
   "execution_count": 14,
   "id": "5e8b1f4a-a5fb-4a4c-9871-ec361ee168df",
   "metadata": {},
   "outputs": [
    {
     "name": "stdout",
     "output_type": "stream",
     "text": [
      "<class 'pandas.core.frame.DataFrame'>\n",
      "RangeIndex: 102599 entries, 0 to 102598\n",
      "Data columns (total 22 columns):\n",
      " #   Column                          Non-Null Count   Dtype  \n",
      "---  ------                          --------------   -----  \n",
      " 0   NAME                            102599 non-null  object \n",
      " 1   host_identity_verified          102599 non-null  object \n",
      " 2   host name                       102599 non-null  object \n",
      " 3   neighbourhood group             102599 non-null  object \n",
      " 4   neighbourhood                   102599 non-null  object \n",
      " 5   lat                             102599 non-null  float64\n",
      " 6   long                            102599 non-null  float64\n",
      " 7   instant_bookable                102599 non-null  bool   \n",
      " 8   cancellation_policy             102599 non-null  object \n",
      " 9   room type                       102599 non-null  object \n",
      " 10  Construction year               102599 non-null  float64\n",
      " 11  price                           102599 non-null  object \n",
      " 12  service fee                     102599 non-null  object \n",
      " 13  minimum nights                  102599 non-null  float64\n",
      " 14  number of reviews               102599 non-null  float64\n",
      " 15  last review                     102599 non-null  object \n",
      " 16  reviews per month               102599 non-null  float64\n",
      " 17  review rate number              102599 non-null  float64\n",
      " 18  calculated host listings count  102599 non-null  float64\n",
      " 19  availability 365                102599 non-null  float64\n",
      " 20  house_rules                     102599 non-null  object \n",
      " 21  license                         102599 non-null  object \n",
      "dtypes: bool(1), float64(9), object(12)\n",
      "memory usage: 16.5+ MB\n"
     ]
    }
   ],
   "source": [
    "datos.info()"
   ]
  },
  {
   "cell_type": "code",
   "execution_count": 15,
   "id": "-huqnzKlK86A",
   "metadata": {
    "id": "-huqnzKlK86A"
   },
   "outputs": [
    {
     "data": {
      "text/plain": [
       "3453"
      ]
     },
     "execution_count": 15,
     "metadata": {},
     "output_type": "execute_result"
    }
   ],
   "source": [
    "## Comprueba si hay valores duplicados y elimínalos.\n",
    "datos.duplicated().sum()\n"
   ]
  },
  {
   "cell_type": "code",
   "execution_count": 16,
   "id": "pJDuUXTTK86A",
   "metadata": {
    "id": "pJDuUXTTK86A"
   },
   "outputs": [
    {
     "name": "stdout",
     "output_type": "stream",
     "text": [
      "Antes de eliminar existen: (102599, 22) registros\n",
      "Despues de eliminar los duplicados quedan (99146, 22) registros\n"
     ]
    }
   ],
   "source": [
    "## Muestra el número total de registros antes y después de eliminar los duplicados.\n",
    "nroRegistros=datos.shape\n",
    "print(f'Antes de eliminar existen: {nroRegistros} registros')\n",
    "#Eliminado datos duplicados\n",
    "datos.drop_duplicates(inplace=True)\n",
    "nroRegistroDespues=datos.shape\n",
    "print(f'Despues de eliminar los duplicados quedan {nroRegistroDespues} registros')\n",
    "\n"
   ]
  },
  {
   "cell_type": "markdown",
   "id": "jI9H0IAEK86B",
   "metadata": {
    "id": "jI9H0IAEK86B"
   },
   "source": [
    "## Tarea 3: Transformación de datos (cualquier herramienta)\n",
    "\n",
    "\n",
    "\n",
    "\n",
    "\n",
    "- Cambia el nombre de la columna `availability 365` a `days_booked`.\n",
    "- Convierte todos los nombres de columna a minúsculas y sustituye los espacios en los nombres de columna por un guión bajo \"_\".\n",
    "- Elimina el signo de dólares y la coma de las columnas `price` y `service_fee`. Si es necesario, convierte estas dos columnas al tipo de datos adecuado.\n",
    "\n",
    "\n",
    "\n",
    "Si utilizas Python para este ejercicio, incluye el código que hayas utilizado en las celdas siguientes. Si utilizas cualquier otra herramienta, incluye capturas de pantalla de tu trabajo."
   ]
  },
  {
   "cell_type": "code",
   "execution_count": 17,
   "id": "dzJpmYvhK86B",
   "metadata": {
    "id": "dzJpmYvhK86B"
   },
   "outputs": [],
   "source": [
    "## Cambia el nombre de la columna.\n",
    "datos.rename(columns={'availability 365':'days_booked'},inplace=True)"
   ]
  },
  {
   "cell_type": "code",
   "execution_count": 18,
   "id": "KqsgZ1aBK86C",
   "metadata": {
    "id": "KqsgZ1aBK86C"
   },
   "outputs": [
    {
     "data": {
      "text/plain": [
       "Index(['name', 'host_identity_verified', 'host_name', 'neighbourhood_group',\n",
       "       'neighbourhood', 'lat', 'long', 'instant_bookable',\n",
       "       'cancellation_policy', 'room_type', 'construction_year', 'price',\n",
       "       'service_fee', 'minimum_nights', 'number_of_reviews', 'last_review',\n",
       "       'reviews_per_month', 'review_rate_number',\n",
       "       'calculated_host_listings_count', 'days_booked', 'house_rules',\n",
       "       'license'],\n",
       "      dtype='object')"
      ]
     },
     "execution_count": 18,
     "metadata": {},
     "output_type": "execute_result"
    }
   ],
   "source": [
    "## Convierte todos los nombres de columna a minúsculas y sustituye los espacios por un guión bajo \"_\".\n",
    "datos.columns = [col.lower().replace(\" \",\"_\") for col in datos.columns]\n",
    "datos.columns"
   ]
  },
  {
   "cell_type": "code",
   "execution_count": 19,
   "id": "m66wCpyoK86C",
   "metadata": {
    "id": "m66wCpyoK86C"
   },
   "outputs": [],
   "source": [
    "## Elimina el signo de dólares y la coma de las columnas. Si es necesario, convierte estas dos columnas al tipo de datos adecuado.\n",
    "def erase_dollar_sign(value):\n",
    "    if pd.isna(value):\n",
    "        return np.NaN\n",
    "    else:\n",
    "        return float(value.replace(\"$\",\"\").replace(\",\",\"\"))\n",
    "# creo una funcion para que elimine el signo dolar y la coma"
   ]
  },
  {
   "cell_type": "code",
   "execution_count": 20,
   "id": "c656a7c3-6dc1-44c3-94f2-33a117e54de6",
   "metadata": {},
   "outputs": [
    {
     "name": "stdout",
     "output_type": "stream",
     "text": [
      "<class 'pandas.core.frame.DataFrame'>\n",
      "Index: 99146 entries, 0 to 102057\n",
      "Data columns (total 22 columns):\n",
      " #   Column                          Non-Null Count  Dtype  \n",
      "---  ------                          --------------  -----  \n",
      " 0   name                            99146 non-null  object \n",
      " 1   host_identity_verified          99146 non-null  object \n",
      " 2   host_name                       99146 non-null  object \n",
      " 3   neighbourhood_group             99146 non-null  object \n",
      " 4   neighbourhood                   99146 non-null  object \n",
      " 5   lat                             99146 non-null  float64\n",
      " 6   long                            99146 non-null  float64\n",
      " 7   instant_bookable                99146 non-null  bool   \n",
      " 8   cancellation_policy             99146 non-null  object \n",
      " 9   room_type                       99146 non-null  object \n",
      " 10  construction_year               99146 non-null  float64\n",
      " 11  price                           99146 non-null  object \n",
      " 12  service_fee                     99146 non-null  object \n",
      " 13  minimum_nights                  99146 non-null  float64\n",
      " 14  number_of_reviews               99146 non-null  float64\n",
      " 15  last_review                     99146 non-null  object \n",
      " 16  reviews_per_month               99146 non-null  float64\n",
      " 17  review_rate_number              99146 non-null  float64\n",
      " 18  calculated_host_listings_count  99146 non-null  float64\n",
      " 19  days_booked                     99146 non-null  float64\n",
      " 20  house_rules                     99146 non-null  object \n",
      " 21  license                         99146 non-null  object \n",
      "dtypes: bool(1), float64(9), object(12)\n",
      "memory usage: 16.7+ MB\n"
     ]
    }
   ],
   "source": [
    "datos.info()"
   ]
  },
  {
   "cell_type": "code",
   "execution_count": 21,
   "id": "9d5d737b-d85e-491c-8f3c-52df1f4ab888",
   "metadata": {},
   "outputs": [],
   "source": [
    "datos['price']=datos['price'].apply(erase_dollar_sign)"
   ]
  },
  {
   "cell_type": "code",
   "execution_count": 22,
   "id": "7e4401af-fc0b-4a86-a691-03ed3a8136fc",
   "metadata": {},
   "outputs": [
    {
     "data": {
      "text/plain": [
       "Index(['name', 'host_identity_verified', 'host_name', 'neighbourhood_group',\n",
       "       'neighbourhood', 'lat', 'long', 'instant_bookable',\n",
       "       'cancellation_policy', 'room_type', 'construction_year', 'price',\n",
       "       'service_fee', 'minimum_nights', 'number_of_reviews', 'last_review',\n",
       "       'reviews_per_month', 'review_rate_number',\n",
       "       'calculated_host_listings_count', 'days_booked', 'house_rules',\n",
       "       'license'],\n",
       "      dtype='object')"
      ]
     },
     "execution_count": 22,
     "metadata": {},
     "output_type": "execute_result"
    }
   ],
   "source": [
    "datos.columns"
   ]
  },
  {
   "cell_type": "code",
   "execution_count": 23,
   "id": "f03a7b19-5a8f-4a44-9707-00b807850140",
   "metadata": {},
   "outputs": [],
   "source": [
    "datos['service_fee']=datos['service_fee'].apply(erase_dollar_sign)"
   ]
  },
  {
   "cell_type": "code",
   "execution_count": 24,
   "id": "5bb63156-843f-49d8-87ef-6c5904865aee",
   "metadata": {},
   "outputs": [
    {
     "data": {
      "text/html": [
       "<div>\n",
       "<style scoped>\n",
       "    .dataframe tbody tr th:only-of-type {\n",
       "        vertical-align: middle;\n",
       "    }\n",
       "\n",
       "    .dataframe tbody tr th {\n",
       "        vertical-align: top;\n",
       "    }\n",
       "\n",
       "    .dataframe thead th {\n",
       "        text-align: right;\n",
       "    }\n",
       "</style>\n",
       "<table border=\"1\" class=\"dataframe\">\n",
       "  <thead>\n",
       "    <tr style=\"text-align: right;\">\n",
       "      <th></th>\n",
       "      <th>name</th>\n",
       "      <th>host_identity_verified</th>\n",
       "      <th>host_name</th>\n",
       "      <th>neighbourhood_group</th>\n",
       "      <th>neighbourhood</th>\n",
       "      <th>lat</th>\n",
       "      <th>long</th>\n",
       "      <th>instant_bookable</th>\n",
       "      <th>cancellation_policy</th>\n",
       "      <th>room_type</th>\n",
       "      <th>...</th>\n",
       "      <th>service_fee</th>\n",
       "      <th>minimum_nights</th>\n",
       "      <th>number_of_reviews</th>\n",
       "      <th>last_review</th>\n",
       "      <th>reviews_per_month</th>\n",
       "      <th>review_rate_number</th>\n",
       "      <th>calculated_host_listings_count</th>\n",
       "      <th>days_booked</th>\n",
       "      <th>house_rules</th>\n",
       "      <th>license</th>\n",
       "    </tr>\n",
       "  </thead>\n",
       "  <tbody>\n",
       "    <tr>\n",
       "      <th>0</th>\n",
       "      <td>Clean &amp; quiet apt home by the park</td>\n",
       "      <td>unconfirmed</td>\n",
       "      <td>Madaline</td>\n",
       "      <td>Brooklyn</td>\n",
       "      <td>Kensington</td>\n",
       "      <td>40.64749</td>\n",
       "      <td>-73.97237</td>\n",
       "      <td>False</td>\n",
       "      <td>strict</td>\n",
       "      <td>Private room</td>\n",
       "      <td>...</td>\n",
       "      <td>193.0</td>\n",
       "      <td>10.0</td>\n",
       "      <td>9.0</td>\n",
       "      <td>10/19/2021</td>\n",
       "      <td>0.21</td>\n",
       "      <td>4.0</td>\n",
       "      <td>6.0</td>\n",
       "      <td>286.0</td>\n",
       "      <td>Clean up and treat the home the way you'd like...</td>\n",
       "      <td>41662/AL</td>\n",
       "    </tr>\n",
       "    <tr>\n",
       "      <th>1</th>\n",
       "      <td>Skylit Midtown Castle</td>\n",
       "      <td>verified</td>\n",
       "      <td>Jenna</td>\n",
       "      <td>Manhattan</td>\n",
       "      <td>Midtown</td>\n",
       "      <td>40.75362</td>\n",
       "      <td>-73.98377</td>\n",
       "      <td>False</td>\n",
       "      <td>moderate</td>\n",
       "      <td>Entire home/apt</td>\n",
       "      <td>...</td>\n",
       "      <td>28.0</td>\n",
       "      <td>30.0</td>\n",
       "      <td>45.0</td>\n",
       "      <td>5/21/2022</td>\n",
       "      <td>0.38</td>\n",
       "      <td>4.0</td>\n",
       "      <td>2.0</td>\n",
       "      <td>228.0</td>\n",
       "      <td>Pet friendly but please confirm with me if the...</td>\n",
       "      <td>41662/AL</td>\n",
       "    </tr>\n",
       "  </tbody>\n",
       "</table>\n",
       "<p>2 rows × 22 columns</p>\n",
       "</div>"
      ],
      "text/plain": [
       "                                 name host_identity_verified host_name  \\\n",
       "0  Clean & quiet apt home by the park            unconfirmed  Madaline   \n",
       "1               Skylit Midtown Castle               verified     Jenna   \n",
       "\n",
       "  neighbourhood_group neighbourhood       lat      long  instant_bookable  \\\n",
       "0            Brooklyn    Kensington  40.64749 -73.97237             False   \n",
       "1           Manhattan       Midtown  40.75362 -73.98377             False   \n",
       "\n",
       "  cancellation_policy        room_type  ...  service_fee  minimum_nights  \\\n",
       "0              strict     Private room  ...        193.0            10.0   \n",
       "1            moderate  Entire home/apt  ...         28.0            30.0   \n",
       "\n",
       "   number_of_reviews  last_review  reviews_per_month review_rate_number  \\\n",
       "0                9.0   10/19/2021               0.21                4.0   \n",
       "1               45.0    5/21/2022               0.38                4.0   \n",
       "\n",
       "   calculated_host_listings_count  days_booked  \\\n",
       "0                             6.0        286.0   \n",
       "1                             2.0        228.0   \n",
       "\n",
       "                                         house_rules   license  \n",
       "0  Clean up and treat the home the way you'd like...  41662/AL  \n",
       "1  Pet friendly but please confirm with me if the...  41662/AL  \n",
       "\n",
       "[2 rows x 22 columns]"
      ]
     },
     "execution_count": 24,
     "metadata": {},
     "output_type": "execute_result"
    }
   ],
   "source": [
    "datos.head(2)"
   ]
  },
  {
   "cell_type": "markdown",
   "id": "DxyVsRzyK86C",
   "metadata": {
    "id": "DxyVsRzyK86C"
   },
   "source": [
    "### Tarea 4: Análisis exploratorio de datos (cualquier herramienta)\n",
    "\n",
    "\n",
    "\n",
    "- Enumera los tipos de habitaciones disponibles en el <i>dataset</i>.\n",
    "- ¿Qué tipo de habitación tiene la política de cancelación más estricta?\n",
    "- Enumera el precio medio por barrio y señala cuál es el conjunto de barrios más caro para alquilar.\n",
    "\n",
    "\n",
    "\n",
    "Si utilizas Python para este ejercicio, incluye el código que hayas utilizado en las celdas siguientes. Si utilizas cualquier otra herramienta, incluye capturas de pantalla de tu trabajo."
   ]
  },
  {
   "cell_type": "code",
   "execution_count": 25,
   "id": "ylqpVpIaK86D",
   "metadata": {
    "id": "ylqpVpIaK86D"
   },
   "outputs": [
    {
     "data": {
      "text/plain": [
       "room_type\n",
       "Entire home/apt    51995\n",
       "Private room       44887\n",
       "Shared room         2149\n",
       "Hotel room           115\n",
       "Name: count, dtype: int64"
      ]
     },
     "execution_count": 25,
     "metadata": {},
     "output_type": "execute_result"
    }
   ],
   "source": [
    "## Enumera los tipos de habitaciones disponibles en Airbnb.\n",
    "datos['room_type'].value_counts()"
   ]
  },
  {
   "cell_type": "code",
   "execution_count": 26,
   "id": "EOF0g2geK86D",
   "metadata": {
    "id": "EOF0g2geK86D"
   },
   "outputs": [
    {
     "data": {
      "text/html": [
       "<div>\n",
       "<style scoped>\n",
       "    .dataframe tbody tr th:only-of-type {\n",
       "        vertical-align: middle;\n",
       "    }\n",
       "\n",
       "    .dataframe tbody tr th {\n",
       "        vertical-align: top;\n",
       "    }\n",
       "\n",
       "    .dataframe thead th {\n",
       "        text-align: right;\n",
       "    }\n",
       "</style>\n",
       "<table border=\"1\" class=\"dataframe\">\n",
       "  <thead>\n",
       "    <tr style=\"text-align: right;\">\n",
       "      <th></th>\n",
       "      <th>name</th>\n",
       "      <th>host_identity_verified</th>\n",
       "      <th>host_name</th>\n",
       "      <th>neighbourhood_group</th>\n",
       "      <th>neighbourhood</th>\n",
       "      <th>lat</th>\n",
       "      <th>long</th>\n",
       "      <th>instant_bookable</th>\n",
       "      <th>cancellation_policy</th>\n",
       "      <th>room_type</th>\n",
       "      <th>...</th>\n",
       "      <th>service_fee</th>\n",
       "      <th>minimum_nights</th>\n",
       "      <th>number_of_reviews</th>\n",
       "      <th>last_review</th>\n",
       "      <th>reviews_per_month</th>\n",
       "      <th>review_rate_number</th>\n",
       "      <th>calculated_host_listings_count</th>\n",
       "      <th>days_booked</th>\n",
       "      <th>house_rules</th>\n",
       "      <th>license</th>\n",
       "    </tr>\n",
       "  </thead>\n",
       "  <tbody>\n",
       "    <tr>\n",
       "      <th>0</th>\n",
       "      <td>Clean &amp; quiet apt home by the park</td>\n",
       "      <td>unconfirmed</td>\n",
       "      <td>Madaline</td>\n",
       "      <td>Brooklyn</td>\n",
       "      <td>Kensington</td>\n",
       "      <td>40.64749</td>\n",
       "      <td>-73.97237</td>\n",
       "      <td>False</td>\n",
       "      <td>strict</td>\n",
       "      <td>Private room</td>\n",
       "      <td>...</td>\n",
       "      <td>193.0</td>\n",
       "      <td>10.0</td>\n",
       "      <td>9.0</td>\n",
       "      <td>10/19/2021</td>\n",
       "      <td>0.210000</td>\n",
       "      <td>4.0</td>\n",
       "      <td>6.0</td>\n",
       "      <td>286.0</td>\n",
       "      <td>Clean up and treat the home the way you'd like...</td>\n",
       "      <td>41662/AL</td>\n",
       "    </tr>\n",
       "    <tr>\n",
       "      <th>8</th>\n",
       "      <td>Large Furnished Room Near B'way</td>\n",
       "      <td>verified</td>\n",
       "      <td>Evelyn</td>\n",
       "      <td>Manhattan</td>\n",
       "      <td>Hell's Kitchen</td>\n",
       "      <td>40.76489</td>\n",
       "      <td>-73.98493</td>\n",
       "      <td>True</td>\n",
       "      <td>strict</td>\n",
       "      <td>Private room</td>\n",
       "      <td>...</td>\n",
       "      <td>204.0</td>\n",
       "      <td>2.0</td>\n",
       "      <td>430.0</td>\n",
       "      <td>6/24/2019</td>\n",
       "      <td>3.470000</td>\n",
       "      <td>3.0</td>\n",
       "      <td>1.0</td>\n",
       "      <td>180.0</td>\n",
       "      <td>- Please clean up after yourself when using th...</td>\n",
       "      <td>41662/AL</td>\n",
       "    </tr>\n",
       "    <tr>\n",
       "      <th>9</th>\n",
       "      <td>Cozy Clean Guest Room - Family Apt</td>\n",
       "      <td>unconfirmed</td>\n",
       "      <td>Carl</td>\n",
       "      <td>Manhattan</td>\n",
       "      <td>Upper West Side</td>\n",
       "      <td>40.80178</td>\n",
       "      <td>-73.96723</td>\n",
       "      <td>False</td>\n",
       "      <td>strict</td>\n",
       "      <td>Private room</td>\n",
       "      <td>...</td>\n",
       "      <td>58.0</td>\n",
       "      <td>2.0</td>\n",
       "      <td>118.0</td>\n",
       "      <td>7/21/2017</td>\n",
       "      <td>0.990000</td>\n",
       "      <td>5.0</td>\n",
       "      <td>1.0</td>\n",
       "      <td>375.0</td>\n",
       "      <td>NO SMOKING OR PETS ANYWHERE ON THE PROPERTY 1....</td>\n",
       "      <td>41662/AL</td>\n",
       "    </tr>\n",
       "    <tr>\n",
       "      <th>12</th>\n",
       "      <td>Central Manhattan/near Broadway</td>\n",
       "      <td>verified</td>\n",
       "      <td>Michael</td>\n",
       "      <td>Manhattan</td>\n",
       "      <td>Hell's Kitchen</td>\n",
       "      <td>40.76076</td>\n",
       "      <td>-73.98867</td>\n",
       "      <td>False</td>\n",
       "      <td>strict</td>\n",
       "      <td>Private room</td>\n",
       "      <td>...</td>\n",
       "      <td>143.0</td>\n",
       "      <td>2.0</td>\n",
       "      <td>188.0</td>\n",
       "      <td>6/23/2019</td>\n",
       "      <td>1.500000</td>\n",
       "      <td>4.0</td>\n",
       "      <td>1.0</td>\n",
       "      <td>258.0</td>\n",
       "      <td>- One of the bedroom closets is not accessible...</td>\n",
       "      <td>41662/AL</td>\n",
       "    </tr>\n",
       "    <tr>\n",
       "      <th>24</th>\n",
       "      <td>CBG Helps Haiti Rm #2</td>\n",
       "      <td>unconfirmed</td>\n",
       "      <td>Charlotte</td>\n",
       "      <td>Brooklyn</td>\n",
       "      <td>Park Slope</td>\n",
       "      <td>40.68001</td>\n",
       "      <td>-73.97865</td>\n",
       "      <td>False</td>\n",
       "      <td>strict</td>\n",
       "      <td>Private room</td>\n",
       "      <td>...</td>\n",
       "      <td>163.0</td>\n",
       "      <td>2.0</td>\n",
       "      <td>71.0</td>\n",
       "      <td>7/2/2019</td>\n",
       "      <td>0.610000</td>\n",
       "      <td>4.0</td>\n",
       "      <td>6.0</td>\n",
       "      <td>344.0</td>\n",
       "      <td>We take great care of our home and expect you ...</td>\n",
       "      <td>41662/AL</td>\n",
       "    </tr>\n",
       "    <tr>\n",
       "      <th>...</th>\n",
       "      <td>...</td>\n",
       "      <td>...</td>\n",
       "      <td>...</td>\n",
       "      <td>...</td>\n",
       "      <td>...</td>\n",
       "      <td>...</td>\n",
       "      <td>...</td>\n",
       "      <td>...</td>\n",
       "      <td>...</td>\n",
       "      <td>...</td>\n",
       "      <td>...</td>\n",
       "      <td>...</td>\n",
       "      <td>...</td>\n",
       "      <td>...</td>\n",
       "      <td>...</td>\n",
       "      <td>...</td>\n",
       "      <td>...</td>\n",
       "      <td>...</td>\n",
       "      <td>...</td>\n",
       "      <td>...</td>\n",
       "      <td>...</td>\n",
       "    </tr>\n",
       "    <tr>\n",
       "      <th>102037</th>\n",
       "      <td>Bx Apartment</td>\n",
       "      <td>unconfirmed</td>\n",
       "      <td>Vii</td>\n",
       "      <td>Bronx</td>\n",
       "      <td>Olinville</td>\n",
       "      <td>40.88438</td>\n",
       "      <td>-73.86397</td>\n",
       "      <td>True</td>\n",
       "      <td>strict</td>\n",
       "      <td>Private room</td>\n",
       "      <td>...</td>\n",
       "      <td>41.0</td>\n",
       "      <td>1.0</td>\n",
       "      <td>0.0</td>\n",
       "      <td>6/23/2019</td>\n",
       "      <td>1.374022</td>\n",
       "      <td>3.0</td>\n",
       "      <td>1.0</td>\n",
       "      <td>0.0</td>\n",
       "      <td>#NAME?</td>\n",
       "      <td>41662/AL</td>\n",
       "    </tr>\n",
       "    <tr>\n",
       "      <th>102040</th>\n",
       "      <td>Room in Queens, NY, near LGA.</td>\n",
       "      <td>verified</td>\n",
       "      <td>Sonia</td>\n",
       "      <td>Queens</td>\n",
       "      <td>East Elmhurst</td>\n",
       "      <td>40.76245</td>\n",
       "      <td>-73.87938</td>\n",
       "      <td>True</td>\n",
       "      <td>strict</td>\n",
       "      <td>Private room</td>\n",
       "      <td>...</td>\n",
       "      <td>196.0</td>\n",
       "      <td>1.0</td>\n",
       "      <td>239.0</td>\n",
       "      <td>6/29/2019</td>\n",
       "      <td>8.580000</td>\n",
       "      <td>2.0</td>\n",
       "      <td>2.0</td>\n",
       "      <td>361.0</td>\n",
       "      <td>1. Please clean-up after yourself in the kitch...</td>\n",
       "      <td>41662/AL</td>\n",
       "    </tr>\n",
       "    <tr>\n",
       "      <th>102042</th>\n",
       "      <td>Central Park Views - Private Room &amp; Bathroom</td>\n",
       "      <td>verified</td>\n",
       "      <td>Michael</td>\n",
       "      <td>Manhattan</td>\n",
       "      <td>Upper West Side</td>\n",
       "      <td>40.79712</td>\n",
       "      <td>-73.96117</td>\n",
       "      <td>False</td>\n",
       "      <td>strict</td>\n",
       "      <td>Private room</td>\n",
       "      <td>...</td>\n",
       "      <td>141.0</td>\n",
       "      <td>1.0</td>\n",
       "      <td>4.0</td>\n",
       "      <td>8/15/2017</td>\n",
       "      <td>0.140000</td>\n",
       "      <td>4.0</td>\n",
       "      <td>1.0</td>\n",
       "      <td>0.0</td>\n",
       "      <td>My roommates and I take a lot of pride in keep...</td>\n",
       "      <td>41662/AL</td>\n",
       "    </tr>\n",
       "    <tr>\n",
       "      <th>102049</th>\n",
       "      <td>MASTER Cozy Bedroom Queen size 2 blocks Timesq...</td>\n",
       "      <td>verified</td>\n",
       "      <td>Michael</td>\n",
       "      <td>Manhattan</td>\n",
       "      <td>Hell's Kitchen</td>\n",
       "      <td>40.76125</td>\n",
       "      <td>-73.98945</td>\n",
       "      <td>True</td>\n",
       "      <td>strict</td>\n",
       "      <td>Entire home/apt</td>\n",
       "      <td>...</td>\n",
       "      <td>41.0</td>\n",
       "      <td>1.0</td>\n",
       "      <td>81.0</td>\n",
       "      <td>3/5/2019</td>\n",
       "      <td>2.960000</td>\n",
       "      <td>2.0</td>\n",
       "      <td>2.0</td>\n",
       "      <td>0.0</td>\n",
       "      <td>- I work at home and prefer to rent to folks w...</td>\n",
       "      <td>41662/AL</td>\n",
       "    </tr>\n",
       "    <tr>\n",
       "      <th>102056</th>\n",
       "      <td>Room &amp; private bathroom in historic Harlem</td>\n",
       "      <td>unconfirmed</td>\n",
       "      <td>Shireen</td>\n",
       "      <td>Manhattan</td>\n",
       "      <td>Harlem</td>\n",
       "      <td>40.81248</td>\n",
       "      <td>-73.94317</td>\n",
       "      <td>True</td>\n",
       "      <td>strict</td>\n",
       "      <td>Private room</td>\n",
       "      <td>...</td>\n",
       "      <td>41.0</td>\n",
       "      <td>2.0</td>\n",
       "      <td>0.0</td>\n",
       "      <td>6/23/2019</td>\n",
       "      <td>1.374022</td>\n",
       "      <td>1.0</td>\n",
       "      <td>1.0</td>\n",
       "      <td>0.0</td>\n",
       "      <td>Each of us is working and/or going to school a...</td>\n",
       "      <td>41662/AL</td>\n",
       "    </tr>\n",
       "  </tbody>\n",
       "</table>\n",
       "<p>32927 rows × 22 columns</p>\n",
       "</div>"
      ],
      "text/plain": [
       "                                                     name  \\\n",
       "0                      Clean & quiet apt home by the park   \n",
       "8                         Large Furnished Room Near B'way   \n",
       "9                      Cozy Clean Guest Room - Family Apt   \n",
       "12                        Central Manhattan/near Broadway   \n",
       "24                                  CBG Helps Haiti Rm #2   \n",
       "...                                                   ...   \n",
       "102037                                       Bx Apartment   \n",
       "102040                      Room in Queens, NY, near LGA.   \n",
       "102042       Central Park Views - Private Room & Bathroom   \n",
       "102049  MASTER Cozy Bedroom Queen size 2 blocks Timesq...   \n",
       "102056         Room & private bathroom in historic Harlem   \n",
       "\n",
       "       host_identity_verified  host_name neighbourhood_group    neighbourhood  \\\n",
       "0                 unconfirmed   Madaline            Brooklyn       Kensington   \n",
       "8                    verified     Evelyn           Manhattan   Hell's Kitchen   \n",
       "9                 unconfirmed       Carl           Manhattan  Upper West Side   \n",
       "12                   verified    Michael           Manhattan   Hell's Kitchen   \n",
       "24                unconfirmed  Charlotte            Brooklyn       Park Slope   \n",
       "...                       ...        ...                 ...              ...   \n",
       "102037            unconfirmed        Vii               Bronx        Olinville   \n",
       "102040               verified      Sonia              Queens    East Elmhurst   \n",
       "102042               verified    Michael           Manhattan  Upper West Side   \n",
       "102049               verified    Michael           Manhattan   Hell's Kitchen   \n",
       "102056            unconfirmed    Shireen           Manhattan           Harlem   \n",
       "\n",
       "             lat      long  instant_bookable cancellation_policy  \\\n",
       "0       40.64749 -73.97237             False              strict   \n",
       "8       40.76489 -73.98493              True              strict   \n",
       "9       40.80178 -73.96723             False              strict   \n",
       "12      40.76076 -73.98867             False              strict   \n",
       "24      40.68001 -73.97865             False              strict   \n",
       "...          ...       ...               ...                 ...   \n",
       "102037  40.88438 -73.86397              True              strict   \n",
       "102040  40.76245 -73.87938              True              strict   \n",
       "102042  40.79712 -73.96117             False              strict   \n",
       "102049  40.76125 -73.98945              True              strict   \n",
       "102056  40.81248 -73.94317              True              strict   \n",
       "\n",
       "              room_type  ...  service_fee  minimum_nights  number_of_reviews  \\\n",
       "0          Private room  ...        193.0            10.0                9.0   \n",
       "8          Private room  ...        204.0             2.0              430.0   \n",
       "9          Private room  ...         58.0             2.0              118.0   \n",
       "12         Private room  ...        143.0             2.0              188.0   \n",
       "24         Private room  ...        163.0             2.0               71.0   \n",
       "...                 ...  ...          ...             ...                ...   \n",
       "102037     Private room  ...         41.0             1.0                0.0   \n",
       "102040     Private room  ...        196.0             1.0              239.0   \n",
       "102042     Private room  ...        141.0             1.0                4.0   \n",
       "102049  Entire home/apt  ...         41.0             1.0               81.0   \n",
       "102056     Private room  ...         41.0             2.0                0.0   \n",
       "\n",
       "        last_review  reviews_per_month review_rate_number  \\\n",
       "0        10/19/2021           0.210000                4.0   \n",
       "8         6/24/2019           3.470000                3.0   \n",
       "9         7/21/2017           0.990000                5.0   \n",
       "12        6/23/2019           1.500000                4.0   \n",
       "24         7/2/2019           0.610000                4.0   \n",
       "...             ...                ...                ...   \n",
       "102037    6/23/2019           1.374022                3.0   \n",
       "102040    6/29/2019           8.580000                2.0   \n",
       "102042    8/15/2017           0.140000                4.0   \n",
       "102049     3/5/2019           2.960000                2.0   \n",
       "102056    6/23/2019           1.374022                1.0   \n",
       "\n",
       "        calculated_host_listings_count  days_booked  \\\n",
       "0                                  6.0        286.0   \n",
       "8                                  1.0        180.0   \n",
       "9                                  1.0        375.0   \n",
       "12                                 1.0        258.0   \n",
       "24                                 6.0        344.0   \n",
       "...                                ...          ...   \n",
       "102037                             1.0          0.0   \n",
       "102040                             2.0        361.0   \n",
       "102042                             1.0          0.0   \n",
       "102049                             2.0          0.0   \n",
       "102056                             1.0          0.0   \n",
       "\n",
       "                                              house_rules   license  \n",
       "0       Clean up and treat the home the way you'd like...  41662/AL  \n",
       "8       - Please clean up after yourself when using th...  41662/AL  \n",
       "9       NO SMOKING OR PETS ANYWHERE ON THE PROPERTY 1....  41662/AL  \n",
       "12      - One of the bedroom closets is not accessible...  41662/AL  \n",
       "24      We take great care of our home and expect you ...  41662/AL  \n",
       "...                                                   ...       ...  \n",
       "102037                                             #NAME?  41662/AL  \n",
       "102040  1. Please clean-up after yourself in the kitch...  41662/AL  \n",
       "102042  My roommates and I take a lot of pride in keep...  41662/AL  \n",
       "102049  - I work at home and prefer to rent to folks w...  41662/AL  \n",
       "102056  Each of us is working and/or going to school a...  41662/AL  \n",
       "\n",
       "[32927 rows x 22 columns]"
      ]
     },
     "execution_count": 26,
     "metadata": {},
     "output_type": "execute_result"
    }
   ],
   "source": [
    "## ¿Qué tipo de habitación se adhiere a una política de cancelación más estricta?\n",
    "datos[datos['cancellation_policy']=='strict']"
   ]
  },
  {
   "cell_type": "code",
   "execution_count": 27,
   "id": "a1462a46-4345-4ef5-9a90-68c5b390bf1b",
   "metadata": {},
   "outputs": [
    {
     "data": {
      "text/plain": [
       "cancellation_policy\n",
       "moderate    33265\n",
       "flexible    32954\n",
       "strict      32927\n",
       "Name: count, dtype: int64"
      ]
     },
     "execution_count": 27,
     "metadata": {},
     "output_type": "execute_result"
    }
   ],
   "source": [
    "datos['cancellation_policy'].value_counts()"
   ]
  },
  {
   "cell_type": "code",
   "execution_count": 28,
   "id": "7fIwo9SrK86E",
   "metadata": {
    "id": "7fIwo9SrK86E",
    "scrolled": true
   },
   "outputs": [
    {
     "data": {
      "text/plain": [
       "neighbourhood_group\n",
       "Queens           628.668822\n",
       "Brooklyn         625.451927\n",
       "Bronx            625.271511\n",
       "Staten Island    625.060870\n",
       "Manhattan        621.641437\n",
       "brookln          580.000000\n",
       "manhatan         460.000000\n",
       "Name: price, dtype: float64"
      ]
     },
     "execution_count": 28,
     "metadata": {},
     "output_type": "execute_result"
    }
   ],
   "source": [
    "## Enumera los precios por barrio y menciona también cuál es el grupo de barrios con alquileres más caros.\n",
    "datos['price'].groupby(datos['neighbourhood_group']).mean().sort_values(ascending=False)"
   ]
  },
  {
   "cell_type": "code",
   "execution_count": 29,
   "id": "990605d1-4430-4adf-80bf-f4d5c264d76e",
   "metadata": {},
   "outputs": [],
   "source": [
    "##### El Grupo de barrio mas caro es Queens"
   ]
  },
  {
   "cell_type": "markdown",
   "id": "MqAfrs2_K86E",
   "metadata": {
    "id": "MqAfrs2_K86E"
   },
   "source": [
    "## Tarea 5a: Visualización de datos (Cualquier herramienta)\n",
    "\n",
    "* Enumerar los distintos tipos de habitaciones disponibles en Airnb\n",
    "* Qué tipo de habitación se adhiere a una política de cancelación más estricta.\n",
    "* Enumere los precios por grupo de barrios y mencione también cuál es el grupo de barrios más caro para los alquileres.\n",
    "* Enumere los 10 barrios más caros por orden creciente de precio con la ayuda de un gráfico de barras horizontales. ¿Cuál es el barrio más barato?\n",
    "* Enumere los barrios que ofrecen alquileres a corto plazo de menos de 10 días. Ilustrar con un gráfico de barras\n",
    "* Enumere los precios con respecto al tipo de habitación utilizando un gráfico de barras y exponga también sus inferencias.\n",
    "* Cree un gráfico circular que muestre la distribución de los días reservados para cada grupo de barrios.\n",
    "\n",
    "Si utiliza Python para este ejercicio, por favor incluya el código en las celdas de abajo. Si utiliza cualquier otra herramienta, por favor incluya pantallazos de su trabajo."
   ]
  },
  {
   "cell_type": "code",
   "execution_count": 30,
   "id": "WcAcrUvTK86F",
   "metadata": {
    "id": "WcAcrUvTK86F"
   },
   "outputs": [],
   "source": [
    "import matplotlib.pyplot as plt\n",
    "import seaborn as sns"
   ]
  },
  {
   "cell_type": "code",
   "execution_count": 31,
   "id": "tdx97C6rK86F",
   "metadata": {
    "id": "tdx97C6rK86F"
   },
   "outputs": [
    {
     "data": {
      "text/plain": [
       "room_type\n",
       "Entire home/apt    51995\n",
       "Private room       44887\n",
       "Shared room         2149\n",
       "Hotel room           115\n",
       "Name: count, dtype: int64"
      ]
     },
     "execution_count": 31,
     "metadata": {},
     "output_type": "execute_result"
    }
   ],
   "source": [
    "#Enumerar los distintos tipos de habitaciones disponibles en Airnb\n",
    "datos['room_type'].value_counts()"
   ]
  },
  {
   "cell_type": "code",
   "execution_count": 32,
   "id": "93c16fe3-c338-42a5-832f-fc6c8238367d",
   "metadata": {},
   "outputs": [
    {
     "data": {
      "text/html": [
       "<div>\n",
       "<style scoped>\n",
       "    .dataframe tbody tr th:only-of-type {\n",
       "        vertical-align: middle;\n",
       "    }\n",
       "\n",
       "    .dataframe tbody tr th {\n",
       "        vertical-align: top;\n",
       "    }\n",
       "\n",
       "    .dataframe thead th {\n",
       "        text-align: right;\n",
       "    }\n",
       "</style>\n",
       "<table border=\"1\" class=\"dataframe\">\n",
       "  <thead>\n",
       "    <tr style=\"text-align: right;\">\n",
       "      <th></th>\n",
       "      <th>room_type</th>\n",
       "      <th>cancellation_policy</th>\n",
       "    </tr>\n",
       "  </thead>\n",
       "  <tbody>\n",
       "    <tr>\n",
       "      <th>0</th>\n",
       "      <td>Entire home/apt</td>\n",
       "      <td>17239</td>\n",
       "    </tr>\n",
       "    <tr>\n",
       "      <th>1</th>\n",
       "      <td>Hotel room</td>\n",
       "      <td>34</td>\n",
       "    </tr>\n",
       "    <tr>\n",
       "      <th>2</th>\n",
       "      <td>Private room</td>\n",
       "      <td>14936</td>\n",
       "    </tr>\n",
       "    <tr>\n",
       "      <th>3</th>\n",
       "      <td>Shared room</td>\n",
       "      <td>718</td>\n",
       "    </tr>\n",
       "  </tbody>\n",
       "</table>\n",
       "</div>"
      ],
      "text/plain": [
       "         room_type  cancellation_policy\n",
       "0  Entire home/apt                17239\n",
       "1       Hotel room                   34\n",
       "2     Private room                14936\n",
       "3      Shared room                  718"
      ]
     },
     "execution_count": 32,
     "metadata": {},
     "output_type": "execute_result"
    }
   ],
   "source": [
    "#Qué tipo de habitación se adhiere a una política de cancelación más estricta.\n",
    "datos[datos['cancellation_policy']=='strict'].groupby('room_type').agg({'cancellation_policy':'count'}).reset_index()"
   ]
  },
  {
   "cell_type": "code",
   "execution_count": 33,
   "id": "56f73dc9-c1c7-473c-9ca2-7b04bdc4a8f3",
   "metadata": {},
   "outputs": [],
   "source": [
    "#Enumere los precios por grupo de barrios y mencione también cuál es el grupo de barrios más caro para los alquileres.\n",
    "#reemplazamos el valor de brooklin por Brooklyn\n",
    "datos['neighbourhood_group'].replace('brookln','Brooklyn',inplace=True)"
   ]
  },
  {
   "cell_type": "code",
   "execution_count": 34,
   "id": "64006922-fe10-42ea-a120-51e02014bf84",
   "metadata": {},
   "outputs": [
    {
     "data": {
      "text/plain": [
       "neighbourhood_group\n",
       "Queens           628.668822\n",
       "Brooklyn         625.450801\n",
       "Bronx            625.271511\n",
       "Staten Island    625.060870\n",
       "Manhattan        621.641437\n",
       "manhatan         460.000000\n",
       "Name: price, dtype: float64"
      ]
     },
     "execution_count": 34,
     "metadata": {},
     "output_type": "execute_result"
    }
   ],
   "source": [
    "datos['price'].groupby(datos['neighbourhood_group']).mean().sort_values(ascending=False)"
   ]
  },
  {
   "cell_type": "markdown",
   "id": "f96d0ce5-6902-4cc9-b549-b53ecf4378f1",
   "metadata": {},
   "source": [
    "#### El grupo de barrio mas caro para los alquileres es Queens con una media de 628.66 ####"
   ]
  },
  {
   "cell_type": "code",
   "execution_count": 35,
   "id": "516463c8-61df-445a-aa4b-ad041a76943d",
   "metadata": {},
   "outputs": [
    {
     "data": {
      "text/plain": [
       "Index(['name', 'host_identity_verified', 'host_name', 'neighbourhood_group',\n",
       "       'neighbourhood', 'lat', 'long', 'instant_bookable',\n",
       "       'cancellation_policy', 'room_type', 'construction_year', 'price',\n",
       "       'service_fee', 'minimum_nights', 'number_of_reviews', 'last_review',\n",
       "       'reviews_per_month', 'review_rate_number',\n",
       "       'calculated_host_listings_count', 'days_booked', 'house_rules',\n",
       "       'license'],\n",
       "      dtype='object')"
      ]
     },
     "execution_count": 35,
     "metadata": {},
     "output_type": "execute_result"
    }
   ],
   "source": [
    "datos.columns\n"
   ]
  },
  {
   "cell_type": "code",
   "execution_count": 36,
   "id": "9f7bc93a-da86-4438-99cb-b9a8a1f8204d",
   "metadata": {},
   "outputs": [],
   "source": [
    "#Enumere los 10 barrios más caros por orden creciente de precio con la ayuda de un gráfico de barras horizontales. ¿Cuál es el barrio más barato?\n",
    "barrios_caros=datos['price'].groupby(datos['neighbourhood']).mean().sort_values(ascending=False).head(10)\n",
    "barrio_barato=datos['price'].groupby(datos['neighbourhood']).mean().sort_values(ascending=False).tail(4)"
   ]
  },
  {
   "cell_type": "code",
   "execution_count": 37,
   "id": "7e4eec2e-e2dd-45a5-b337-88556a954481",
   "metadata": {},
   "outputs": [
    {
     "data": {
      "text/plain": [
       "neighbourhood\n",
       "New Dorp                  1045.333333\n",
       "Chelsea, Staten Island    1042.000000\n",
       "Fort Wadsworth            1024.000000\n",
       "Little Neck                817.750000\n",
       "Jamaica Hills              812.904762\n",
       "Shore Acres                805.142857\n",
       "Arden Heights              804.888889\n",
       "Midland Beach              796.176471\n",
       "Mill Basin                 775.142857\n",
       "Riverdale                  768.736842\n",
       "Name: price, dtype: float64"
      ]
     },
     "execution_count": 37,
     "metadata": {},
     "output_type": "execute_result"
    }
   ],
   "source": [
    "barrios_caros"
   ]
  },
  {
   "cell_type": "code",
   "execution_count": 38,
   "id": "4032e7cc-a96c-47fe-ba53-cd84416b9ac1",
   "metadata": {},
   "outputs": [
    {
     "data": {
      "text/plain": [
       "neighbourhood\n",
       "Breezy Point                  309.888889\n",
       "Spuyten Duyvil                307.000000\n",
       "Bay Terrace, Staten Island    306.000000\n",
       "Lighthouse Hill               107.666667\n",
       "Name: price, dtype: float64"
      ]
     },
     "execution_count": 38,
     "metadata": {},
     "output_type": "execute_result"
    }
   ],
   "source": [
    "barrio_barato"
   ]
  },
  {
   "cell_type": "code",
   "execution_count": 39,
   "id": "2f47951b-5ba6-40d2-a5b5-bfd608fb56e0",
   "metadata": {},
   "outputs": [
    {
     "data": {
      "text/plain": [
       "Text(0.5, 1.0, '10 vecindarios mas caros')"
      ]
     },
     "execution_count": 39,
     "metadata": {},
     "output_type": "execute_result"
    },
    {
     "data": {
      "image/png": "[encoded data removed]",
      "text/plain": [
       "<Figure size 640x480 with 1 Axes>"
      ]
     },
     "metadata": {},
     "output_type": "display_data"
    }
   ],
   "source": [
    "barrios_caros.plot(kind='bar')\n",
    "plt.ylabel('Media de precios')\n",
    "plt.xlabel('Grupo de vecindarios')\n",
    "plt.title('10 vecindarios mas caros')"
   ]
  },
  {
   "cell_type": "code",
   "execution_count": 40,
   "id": "dfa89d68-2704-4477-88d9-ec80b4261657",
   "metadata": {},
   "outputs": [
    {
     "data": {
      "text/plain": [
       "Text(0.5, 1.0, 'Vecindarios mas Baratos')"
      ]
     },
     "execution_count": 40,
     "metadata": {},
     "output_type": "execute_result"
    },
    {
     "data": {
      "image/png": "[encoded data removed]",
      "text/plain": [
       "<Figure size 640x480 with 1 Axes>"
      ]
     },
     "metadata": {},
     "output_type": "display_data"
    }
   ],
   "source": [
    "barrio_barato.plot(kind='bar')\n",
    "plt.ylabel('Media de Precios')\n",
    "plt.xlabel('vecindarios')\n",
    "plt.title('Vecindarios mas Baratos')"
   ]
  },
  {
   "cell_type": "code",
   "execution_count": 41,
   "id": "6127c9c3-c25e-4cbe-a399-631e15de485c",
   "metadata": {},
   "outputs": [],
   "source": [
    "#Enumere los barrios que ofrecen alquileres a corto plazo de menos de 10 días. Ilustrar con un gráfico de barras\n"
   ]
  },
  {
   "cell_type": "code",
   "execution_count": 42,
   "id": "d4769466-37be-4fec-9eeb-73dd3ce57722",
   "metadata": {},
   "outputs": [],
   "source": [
    "barrio_ofrecen_corto_plazo= datos[datos['minimum_nights']<10].groupby('neighbourhood_group').agg({'neighbourhood_group':'count'})"
   ]
  },
  {
   "cell_type": "code",
   "execution_count": 43,
   "id": "8b80ca0b-445c-4d35-8cbe-53e03fe67a91",
   "metadata": {},
   "outputs": [
    {
     "data": {
      "text/plain": [
       "<Axes: xlabel='neighbourhood_group'>"
      ]
     },
     "execution_count": 43,
     "metadata": {},
     "output_type": "execute_result"
    },
    {
     "data": {
      "image/png": "[encoded data removed]",
      "text/plain": [
       "<Figure size 640x480 with 1 Axes>"
      ]
     },
     "metadata": {},
     "output_type": "display_data"
    }
   ],
   "source": [
    "barrio_ofrecen_corto_plazo.plot(kind='bar')"
   ]
  },
  {
   "cell_type": "code",
   "execution_count": 44,
   "id": "729bd6c1-9bc3-432a-bf9f-b540c6947287",
   "metadata": {},
   "outputs": [
    {
     "data": {
      "text/plain": [
       "Text(0.5, 1.0, 'Precio con respecto al tipo de habitación')"
      ]
     },
     "execution_count": 44,
     "metadata": {},
     "output_type": "execute_result"
    },
    {
     "data": {
      "image/png": "[encoded data removed]",
      "text/plain": [
       "<Figure size 640x480 with 1 Axes>"
      ]
     },
     "metadata": {},
     "output_type": "display_data"
    }
   ],
   "source": [
    "#Enumere los precios con respecto al tipo de habitación utilizando un gráfico de barras y exponga también sus inferencias.\n",
    "precios_habitacion=datos['price'].groupby(datos['room_type']).mean().sort_values()\n",
    "precios_habitacion.plot(kind='bar')\n",
    "plt.ylabel('Media de Precios')\n",
    "plt.xlabel('tipos de habitacion')\n",
    "plt.title('Precio con respecto al tipo de habitación')"
   ]
  },
  {
   "cell_type": "code",
   "execution_count": 45,
   "id": "fdd934f6-af21-4851-beff-c5e0f9af2cd8",
   "metadata": {},
   "outputs": [],
   "source": [
    "#Cree un gráfico circular que muestre la distribución de los días reservados para cada grupo de barrios\n",
    "reservas=datos.groupby('neighbourhood_group')['days_booked'].count().reset_index()\n"
   ]
  },
  {
   "cell_type": "code",
   "execution_count": 46,
   "id": "f2b2426a-9eb2-47ff-9bb7-e46fe1d21d35",
   "metadata": {},
   "outputs": [
    {
     "data": {
      "text/html": [
       "<div>\n",
       "<style scoped>\n",
       "    .dataframe tbody tr th:only-of-type {\n",
       "        vertical-align: middle;\n",
       "    }\n",
       "\n",
       "    .dataframe tbody tr th {\n",
       "        vertical-align: top;\n",
       "    }\n",
       "\n",
       "    .dataframe thead th {\n",
       "        text-align: right;\n",
       "    }\n",
       "</style>\n",
       "<table border=\"1\" class=\"dataframe\">\n",
       "  <thead>\n",
       "    <tr style=\"text-align: right;\">\n",
       "      <th></th>\n",
       "      <th>neighbourhood_group</th>\n",
       "      <th>days_booked</th>\n",
       "    </tr>\n",
       "  </thead>\n",
       "  <tbody>\n",
       "    <tr>\n",
       "      <th>0</th>\n",
       "      <td>Bronx</td>\n",
       "      <td>2615</td>\n",
       "    </tr>\n",
       "    <tr>\n",
       "      <th>1</th>\n",
       "      <td>Brooklyn</td>\n",
       "      <td>40377</td>\n",
       "    </tr>\n",
       "    <tr>\n",
       "      <th>2</th>\n",
       "      <td>Manhattan</td>\n",
       "      <td>42397</td>\n",
       "    </tr>\n",
       "    <tr>\n",
       "      <th>3</th>\n",
       "      <td>Queens</td>\n",
       "      <td>12836</td>\n",
       "    </tr>\n",
       "    <tr>\n",
       "      <th>4</th>\n",
       "      <td>Staten Island</td>\n",
       "      <td>920</td>\n",
       "    </tr>\n",
       "    <tr>\n",
       "      <th>5</th>\n",
       "      <td>manhatan</td>\n",
       "      <td>1</td>\n",
       "    </tr>\n",
       "  </tbody>\n",
       "</table>\n",
       "</div>"
      ],
      "text/plain": [
       "  neighbourhood_group  days_booked\n",
       "0               Bronx         2615\n",
       "1            Brooklyn        40377\n",
       "2           Manhattan        42397\n",
       "3              Queens        12836\n",
       "4       Staten Island          920\n",
       "5            manhatan            1"
      ]
     },
     "execution_count": 46,
     "metadata": {},
     "output_type": "execute_result"
    }
   ],
   "source": [
    "reservas"
   ]
  },
  {
   "cell_type": "code",
   "execution_count": 47,
   "id": "94286872-965d-4e74-b3ec-ed4bba3e9be8",
   "metadata": {},
   "outputs": [
    {
     "data": {
      "image/png": "[encoded data removed]",
      "text/plain": [
       "<Figure size 640x480 with 1 Axes>"
      ]
     },
     "metadata": {},
     "output_type": "display_data"
    }
   ],
   "source": [
    "plt.pie(reservas['days_booked'],labels=reservas['neighbourhood_group'],autopct='%1.1f%%',startangle=90)\n",
    "plt.show()"
   ]
  },
  {
   "cell_type": "markdown",
   "id": "686IEH_tK86G",
   "metadata": {
    "id": "686IEH_tK86G"
   },
   "source": [
    "## Tarea 5b: Visualización de datos (Cualquier herramienta)\n",
    "\n",
    "* ¿El precio del servicio y el precio de la habitación tienen un impacto mutuo? Ilustre esta relación con un gráfico de dispersión e indique sus inferencias\n",
    "* Utilizando un gráfico lineal muestre en qué año tuvo lugar la máxima construcción de habitaciones.\n",
    "\n",
    "Si utiliza Python para este ejercicio, incluya el código en las celdas siguientes. Si utiliza cualquier otra herramienta, incluya capturas de pantalla de su trabajo."
   ]
  },
  {
   "cell_type": "code",
   "execution_count": 48,
   "id": "1faffda5-0127-4a26-89a5-8d93c4130d66",
   "metadata": {},
   "outputs": [
    {
     "data": {
      "image/png": "[encoded data removed]",
      "text/plain": [
       "<Figure size 640x480 with 1 Axes>"
      ]
     },
     "metadata": {},
     "output_type": "display_data"
    }
   ],
   "source": [
    "plt.scatter(datos['price'], datos['service_fee'])\n",
    "plt.xlabel('Precio de la Habitación')\n",
    "plt.ylabel('Precio del Servicio')\n",
    "plt.title('Relación entre Precio de la Habitación y Precio del Servicio')\n",
    "plt.show()"
   ]
  },
  {
   "cell_type": "code",
   "execution_count": 49,
   "id": "4f24d8a1-f5c6-4259-8c6a-01eb480b658b",
   "metadata": {},
   "outputs": [],
   "source": [
    "#convertimos la columna en formato fecha(año)\n",
    "datos['construction_year']=pd.to_datetime(datos['construction_year'],format='%Y')"
   ]
  },
  {
   "cell_type": "code",
   "execution_count": 50,
   "id": "0b40c2f3-e7ef-4eaa-9f39-f1536f73ddc7",
   "metadata": {},
   "outputs": [
    {
     "ename": "SyntaxError",
     "evalue": "invalid syntax (310410913.py, line 1)",
     "output_type": "error",
     "traceback": [
      "\u001b[1;36m  Cell \u001b[1;32mIn[50], line 1\u001b[1;36m\u001b[0m\n\u001b[1;33m    Creo un dataframe para agrupar las construcciones por año\u001b[0m\n\u001b[1;37m         ^\u001b[0m\n\u001b[1;31mSyntaxError\u001b[0m\u001b[1;31m:\u001b[0m invalid syntax\n"
     ]
    }
   ],
   "source": [
    "Creo un dataframe para agrupar las construcciones por año\n",
    "contruccion=datos.groupby('construction_year').size().reset_index(name='cant-Contruc')"
   ]
  },
  {
   "cell_type": "code",
   "execution_count": null,
   "id": "aee68f4d-c240-4561-8db7-d9a37fccd975",
   "metadata": {},
   "outputs": [],
   "source": [
    "#Utilizando un gráfico lineal muestre en qué año tuvo lugar la máxima construcción de habitaciones.\n",
    "plt.plot(contruccion['construction_year'],contruccion['cant-Contruc'])\n",
    "plt.xlabel('Año')\n",
    "plt.ylabel('Nro Construcciones')\n",
    "plt.title('Construcciones por Año 2004-2022')\n",
    "plt.show()"
   ]
  },
  {
   "cell_type": "markdown",
   "id": "e94d3263-d210-429b-ae7e-c685f5db3d43",
   "metadata": {},
   "source": [
    "#### El  2012 fue el año que se construyo mas habitaciones ####"
   ]
  },
  {
   "cell_type": "markdown",
   "id": "2Yc5AWtsK86H",
   "metadata": {
    "id": "2Yc5AWtsK86H"
   },
   "source": [
    "## Tarea 5c: Visualización de datos (Cualquier herramienta)\n",
    "\n",
    "* Con la ayuda de gráficos de caja ilustra lo siguiente\n",
    " * Efecto del número de tasa de revisión en el precio\n",
    " * Efecto de la identidad del host verificada en el precio\n",
    "\n",
    "Si utiliza Python para este ejercicio, por favor incluya el código en las celdas de abajo. Si utiliza cualquier otra herramienta, por favor incluya capturas de pantalla de su trabajo."
   ]
  },
  {
   "cell_type": "code",
   "execution_count": null,
   "id": "u7w_1H1sK86H",
   "metadata": {
    "id": "u7w_1H1sK86H"
   },
   "outputs": [],
   "source": [
    "datos.columns"
   ]
  },
  {
   "cell_type": "code",
   "execution_count": null,
   "id": "ad9bc362-3a1f-43a7-a642-367f8031e10a",
   "metadata": {},
   "outputs": [],
   "source": [
    "#Efecto del número de tasa de revisión en el precio\n",
    "sns.boxplot(x=datos['review_rate_number'],y=datos['price'],data=datos)\n",
    "plt.title('Efecto del numero de tasa de revision en el precio')\n",
    "plt.xlabel('Numero de tasa de revisión')\n",
    "plt.ylabel('Precio')\n",
    "plt.show()"
   ]
  },
  {
   "cell_type": "code",
   "execution_count": null,
   "id": "UM7P_KhFK86I",
   "metadata": {
    "id": "UM7P_KhFK86I"
   },
   "outputs": [],
   "source": [
    "#Efecto de la identidad del host verificada en el precio\n",
    "sns.boxplot(x=datos['host_identity_verified'],y=datos['price'],data=datos)\n",
    "plt.xlabel('Identidad del host verificada')\n",
    "plt.ylabel('precio')\n",
    "plt.title('Efecto de la Identidad del host verificada en el precio')\n",
    "plt.show()"
   ]
  },
  {
   "cell_type": "code",
   "execution_count": null,
   "id": "dd9f5d21-8b78-4936-a53f-1e1a901f8b00",
   "metadata": {},
   "outputs": [],
   "source": []
  },
  {
   "cell_type": "code",
   "execution_count": null,
   "id": "68f094b0-f716-4757-a580-02eca9ff21e1",
   "metadata": {},
   "outputs": [],
   "source": []
  }
 ],
 "metadata": {
  "colab": {
   "provenance": []
  },
  "kernelspec": {
   "display_name": "Python 3 (ipykernel)",
   "language": "python",
   "name": "python3"
  },
  "language_info": {
   "codemirror_mode": {
    "name": "ipython",
    "version": 3
   },
   "file_extension": ".py",
   "mimetype": "text/x-python",
   "name": "python",
   "nbconvert_exporter": "python",
   "pygments_lexer": "ipython3",
   "version": "3.12.0"
  },
  "nteract": {
   "version": "0.28.0"
  },
  "toc": {
   "base_numbering": 1,
   "nav_menu": {},
   "number_sections": false,
   "sideBar": true,
   "skip_h1_title": true,
   "title_cell": "Table of Contents",
   "title_sidebar": "Contents",
   "toc_cell": false,
   "toc_position": {},
   "toc_section_display": true,
   "toc_window_display": true
  },
  "vscode": {
   "interpreter": {
    "hash": "31f2aee4e71d21fbe5cf8b01ff0e069b9275f58929596ceb00d14d90e3e16cd6"
   }
  }
 },
 "nbformat": 4,
 "nbformat_minor": 5
}
